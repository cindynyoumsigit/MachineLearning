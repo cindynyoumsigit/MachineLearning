{
 "cells": [
  {
   "cell_type": "markdown",
   "id": "immune-processing",
   "metadata": {},
   "source": [
    "# Supervised Classification Learning Algorithms\n",
    "## Neural Networks"
   ]
  },
  {
   "cell_type": "markdown",
   "id": "gorgeous-tiger",
   "metadata": {},
   "source": [
    "### Importing Necessary Libraries\n"
   ]
  },
  {
   "cell_type": "code",
   "execution_count": 1,
   "id": "alien-brand",
   "metadata": {
    "scrolled": true
   },
   "outputs": [],
   "source": [
    "%matplotlib inline\n",
    "import six\n",
    "import sys\n",
    "sys.modules['sklearn.externals.six'] = six\n",
    "import mlrose\n",
    "import sklearn\n",
    "import warnings\n",
    "import matplotlib\n",
    "import numpy as np\n",
    "import mlrose_hiive\n",
    "import pandas as pd\n",
    "from functools import partial\n",
    "from sklearn.base import clone\n",
    "from sklearn import set_config\n",
    "import matplotlib.pyplot as plt\n",
    "from sklearn import preprocessing\n",
    "from mlrose_hiive import ExpDecay\n",
    "from statistics import mean, stdev\n",
    "from IPython.display import display\n",
    "from sklearn.metrics import f1_score\n",
    "from sklearn.preprocessing import OneHotEncoder\n",
    "from sklearn.neural_network import MLPClassifier\n",
    "from sklearn.exceptions import ConvergenceWarning\n",
    "from sklearn.model_selection import train_test_split, GridSearchCV, cross_val_score, StratifiedKFold, StratifiedShuffleSplit, validation_curve, learning_curve\n",
    "from sklearn.metrics import roc_curve, precision_score, accuracy_score, average_precision_score, recall_score, f1_score, classification_report, confusion_matrix\n",
    "np.random.seed(44)"
   ]
  },
  {
   "cell_type": "markdown",
   "id": "olive-division",
   "metadata": {},
   "source": [
    "### Setting Graph Format Defaults"
   ]
  },
  {
   "cell_type": "code",
   "execution_count": 2,
   "id": "advance-cream",
   "metadata": {},
   "outputs": [],
   "source": [
    "# Specify printing and plot dimensions \n",
    "pd.options.display.max_columns = None\n",
    "matplotlib.rc('figure', figsize=[10,5])\n",
    "\n",
    "# Initializing Random Seed to make experiments reproducible\n",
    "np.random.seed(1126)\n",
    "\n",
    "# setting config to print all parameters\n",
    "set_config(print_changed_only=False)"
   ]
  },
  {
   "cell_type": "markdown",
   "id": "surprised-induction",
   "metadata": {},
   "source": [
    "### Uploading and Pre-process Data"
   ]
  },
  {
   "cell_type": "code",
   "execution_count": 3,
   "id": "unknown-ebony",
   "metadata": {},
   "outputs": [
    {
     "data": {
      "text/html": [
       "<div>\n",
       "<style scoped>\n",
       "    .dataframe tbody tr th:only-of-type {\n",
       "        vertical-align: middle;\n",
       "    }\n",
       "\n",
       "    .dataframe tbody tr th {\n",
       "        vertical-align: top;\n",
       "    }\n",
       "\n",
       "    .dataframe thead th {\n",
       "        text-align: right;\n",
       "    }\n",
       "</style>\n",
       "<table border=\"1\" class=\"dataframe\">\n",
       "  <thead>\n",
       "    <tr style=\"text-align: right;\">\n",
       "      <th></th>\n",
       "      <th>index</th>\n",
       "      <th>LIMIT_BAL</th>\n",
       "      <th>SEX</th>\n",
       "      <th>EDUCATION</th>\n",
       "      <th>MARRIAGE</th>\n",
       "      <th>AGE</th>\n",
       "      <th>PAY_0</th>\n",
       "      <th>PAY_2</th>\n",
       "      <th>PAY_3</th>\n",
       "      <th>PAY_4</th>\n",
       "      <th>PAY_5</th>\n",
       "      <th>PAY_6</th>\n",
       "      <th>BILL_AMT1</th>\n",
       "      <th>BILL_AMT2</th>\n",
       "      <th>BILL_AMT3</th>\n",
       "      <th>BILL_AMT4</th>\n",
       "      <th>BILL_AMT5</th>\n",
       "      <th>BILL_AMT6</th>\n",
       "      <th>PAY_AMT1</th>\n",
       "      <th>PAY_AMT2</th>\n",
       "      <th>PAY_AMT3</th>\n",
       "      <th>PAY_AMT4</th>\n",
       "      <th>PAY_AMT5</th>\n",
       "      <th>PAY_AMT6</th>\n",
       "      <th>default payment next month</th>\n",
       "    </tr>\n",
       "  </thead>\n",
       "  <tbody>\n",
       "    <tr>\n",
       "      <th>0</th>\n",
       "      <td>1.0</td>\n",
       "      <td>20000.0</td>\n",
       "      <td>2.0</td>\n",
       "      <td>2.0</td>\n",
       "      <td>1.0</td>\n",
       "      <td>24.0</td>\n",
       "      <td>2.0</td>\n",
       "      <td>2.0</td>\n",
       "      <td>-1.0</td>\n",
       "      <td>-1.0</td>\n",
       "      <td>-2.0</td>\n",
       "      <td>-2.0</td>\n",
       "      <td>3913.0</td>\n",
       "      <td>3102.0</td>\n",
       "      <td>689.0</td>\n",
       "      <td>0.0</td>\n",
       "      <td>0.0</td>\n",
       "      <td>0.0</td>\n",
       "      <td>0.0</td>\n",
       "      <td>689.0</td>\n",
       "      <td>0.0</td>\n",
       "      <td>0.0</td>\n",
       "      <td>0.0</td>\n",
       "      <td>0.0</td>\n",
       "      <td>1.0</td>\n",
       "    </tr>\n",
       "    <tr>\n",
       "      <th>1</th>\n",
       "      <td>2.0</td>\n",
       "      <td>120000.0</td>\n",
       "      <td>2.0</td>\n",
       "      <td>2.0</td>\n",
       "      <td>2.0</td>\n",
       "      <td>26.0</td>\n",
       "      <td>-1.0</td>\n",
       "      <td>2.0</td>\n",
       "      <td>0.0</td>\n",
       "      <td>0.0</td>\n",
       "      <td>0.0</td>\n",
       "      <td>2.0</td>\n",
       "      <td>2682.0</td>\n",
       "      <td>1725.0</td>\n",
       "      <td>2682.0</td>\n",
       "      <td>3272.0</td>\n",
       "      <td>3455.0</td>\n",
       "      <td>3261.0</td>\n",
       "      <td>0.0</td>\n",
       "      <td>1000.0</td>\n",
       "      <td>1000.0</td>\n",
       "      <td>1000.0</td>\n",
       "      <td>0.0</td>\n",
       "      <td>2000.0</td>\n",
       "      <td>1.0</td>\n",
       "    </tr>\n",
       "    <tr>\n",
       "      <th>2</th>\n",
       "      <td>3.0</td>\n",
       "      <td>90000.0</td>\n",
       "      <td>2.0</td>\n",
       "      <td>2.0</td>\n",
       "      <td>2.0</td>\n",
       "      <td>34.0</td>\n",
       "      <td>0.0</td>\n",
       "      <td>0.0</td>\n",
       "      <td>0.0</td>\n",
       "      <td>0.0</td>\n",
       "      <td>0.0</td>\n",
       "      <td>0.0</td>\n",
       "      <td>29239.0</td>\n",
       "      <td>14027.0</td>\n",
       "      <td>13559.0</td>\n",
       "      <td>14331.0</td>\n",
       "      <td>14948.0</td>\n",
       "      <td>15549.0</td>\n",
       "      <td>1518.0</td>\n",
       "      <td>1500.0</td>\n",
       "      <td>1000.0</td>\n",
       "      <td>1000.0</td>\n",
       "      <td>1000.0</td>\n",
       "      <td>5000.0</td>\n",
       "      <td>0.0</td>\n",
       "    </tr>\n",
       "    <tr>\n",
       "      <th>3</th>\n",
       "      <td>4.0</td>\n",
       "      <td>50000.0</td>\n",
       "      <td>2.0</td>\n",
       "      <td>2.0</td>\n",
       "      <td>1.0</td>\n",
       "      <td>37.0</td>\n",
       "      <td>0.0</td>\n",
       "      <td>0.0</td>\n",
       "      <td>0.0</td>\n",
       "      <td>0.0</td>\n",
       "      <td>0.0</td>\n",
       "      <td>0.0</td>\n",
       "      <td>46990.0</td>\n",
       "      <td>48233.0</td>\n",
       "      <td>49291.0</td>\n",
       "      <td>28314.0</td>\n",
       "      <td>28959.0</td>\n",
       "      <td>29547.0</td>\n",
       "      <td>2000.0</td>\n",
       "      <td>2019.0</td>\n",
       "      <td>1200.0</td>\n",
       "      <td>1100.0</td>\n",
       "      <td>1069.0</td>\n",
       "      <td>1000.0</td>\n",
       "      <td>0.0</td>\n",
       "    </tr>\n",
       "    <tr>\n",
       "      <th>4</th>\n",
       "      <td>5.0</td>\n",
       "      <td>50000.0</td>\n",
       "      <td>1.0</td>\n",
       "      <td>2.0</td>\n",
       "      <td>1.0</td>\n",
       "      <td>57.0</td>\n",
       "      <td>-1.0</td>\n",
       "      <td>0.0</td>\n",
       "      <td>-1.0</td>\n",
       "      <td>0.0</td>\n",
       "      <td>0.0</td>\n",
       "      <td>0.0</td>\n",
       "      <td>8617.0</td>\n",
       "      <td>5670.0</td>\n",
       "      <td>35835.0</td>\n",
       "      <td>20940.0</td>\n",
       "      <td>19146.0</td>\n",
       "      <td>19131.0</td>\n",
       "      <td>2000.0</td>\n",
       "      <td>36681.0</td>\n",
       "      <td>10000.0</td>\n",
       "      <td>9000.0</td>\n",
       "      <td>689.0</td>\n",
       "      <td>679.0</td>\n",
       "      <td>0.0</td>\n",
       "    </tr>\n",
       "  </tbody>\n",
       "</table>\n",
       "</div>"
      ],
      "text/plain": [
       "   index  LIMIT_BAL  SEX  EDUCATION  MARRIAGE   AGE  PAY_0  PAY_2  PAY_3  \\\n",
       "0    1.0    20000.0  2.0        2.0       1.0  24.0    2.0    2.0   -1.0   \n",
       "1    2.0   120000.0  2.0        2.0       2.0  26.0   -1.0    2.0    0.0   \n",
       "2    3.0    90000.0  2.0        2.0       2.0  34.0    0.0    0.0    0.0   \n",
       "3    4.0    50000.0  2.0        2.0       1.0  37.0    0.0    0.0    0.0   \n",
       "4    5.0    50000.0  1.0        2.0       1.0  57.0   -1.0    0.0   -1.0   \n",
       "\n",
       "   PAY_4  PAY_5  PAY_6  BILL_AMT1  BILL_AMT2  BILL_AMT3  BILL_AMT4  BILL_AMT5  \\\n",
       "0   -1.0   -2.0   -2.0     3913.0     3102.0      689.0        0.0        0.0   \n",
       "1    0.0    0.0    2.0     2682.0     1725.0     2682.0     3272.0     3455.0   \n",
       "2    0.0    0.0    0.0    29239.0    14027.0    13559.0    14331.0    14948.0   \n",
       "3    0.0    0.0    0.0    46990.0    48233.0    49291.0    28314.0    28959.0   \n",
       "4    0.0    0.0    0.0     8617.0     5670.0    35835.0    20940.0    19146.0   \n",
       "\n",
       "   BILL_AMT6  PAY_AMT1  PAY_AMT2  PAY_AMT3  PAY_AMT4  PAY_AMT5  PAY_AMT6  \\\n",
       "0        0.0       0.0     689.0       0.0       0.0       0.0       0.0   \n",
       "1     3261.0       0.0    1000.0    1000.0    1000.0       0.0    2000.0   \n",
       "2    15549.0    1518.0    1500.0    1000.0    1000.0    1000.0    5000.0   \n",
       "3    29547.0    2000.0    2019.0    1200.0    1100.0    1069.0    1000.0   \n",
       "4    19131.0    2000.0   36681.0   10000.0    9000.0     689.0     679.0   \n",
       "\n",
       "   default payment next month  \n",
       "0                         1.0  \n",
       "1                         1.0  \n",
       "2                         0.0  \n",
       "3                         0.0  \n",
       "4                         0.0  "
      ]
     },
     "execution_count": 3,
     "metadata": {},
     "output_type": "execute_result"
    }
   ],
   "source": [
    "# Upload credit Dataset\n",
    "creditdata = pd.read_csv('creditdata.csv')\n",
    "creditdata = creditdata.iloc[: , 1:]\n",
    "newheader = list(creditdata.loc[0])\n",
    "creditdata = creditdata.drop(labels=0, axis=0)\n",
    "creditdata.columns = newheader\n",
    "creditdata.reset_index(inplace=True)\n",
    "creditdata = creditdata.astype('float64')\n",
    "creditdata.head()"
   ]
  },
  {
   "cell_type": "markdown",
   "id": "noticed-transparency",
   "metadata": {},
   "source": [
    "### Data Preprocessing (Normalizing and Assigning Features and Target variables)"
   ]
  },
  {
   "cell_type": "code",
   "execution_count": 4,
   "id": "accompanied-district",
   "metadata": {},
   "outputs": [
    {
     "name": "stdout",
     "output_type": "stream",
     "text": [
      "<class 'pandas.core.frame.DataFrame'>\n",
      "RangeIndex: 30000 entries, 0 to 29999\n",
      "Data columns (total 23 columns):\n",
      " #   Column     Non-Null Count  Dtype  \n",
      "---  ------     --------------  -----  \n",
      " 0   LIMIT_BAL  30000 non-null  float64\n",
      " 1   SEX        30000 non-null  float64\n",
      " 2   EDUCATION  30000 non-null  float64\n",
      " 3   MARRIAGE   30000 non-null  float64\n",
      " 4   AGE        30000 non-null  float64\n",
      " 5   PAY_0      30000 non-null  float64\n",
      " 6   PAY_2      30000 non-null  float64\n",
      " 7   PAY_3      30000 non-null  float64\n",
      " 8   PAY_4      30000 non-null  float64\n",
      " 9   PAY_5      30000 non-null  float64\n",
      " 10  PAY_6      30000 non-null  float64\n",
      " 11  BILL_AMT1  30000 non-null  float64\n",
      " 12  BILL_AMT2  30000 non-null  float64\n",
      " 13  BILL_AMT3  30000 non-null  float64\n",
      " 14  BILL_AMT4  30000 non-null  float64\n",
      " 15  BILL_AMT5  30000 non-null  float64\n",
      " 16  BILL_AMT6  30000 non-null  float64\n",
      " 17  PAY_AMT1   30000 non-null  float64\n",
      " 18  PAY_AMT2   30000 non-null  float64\n",
      " 19  PAY_AMT3   30000 non-null  float64\n",
      " 20  PAY_AMT4   30000 non-null  float64\n",
      " 21  PAY_AMT5   30000 non-null  float64\n",
      " 22  PAY_AMT6   30000 non-null  float64\n",
      "dtypes: float64(23)\n",
      "memory usage: 5.3 MB\n",
      "<class 'pandas.core.frame.DataFrame'>\n",
      "RangeIndex: 30000 entries, 0 to 29999\n",
      "Data columns (total 1 columns):\n",
      " #   Column                      Non-Null Count  Dtype\n",
      "---  ------                      --------------  -----\n",
      " 0   default payment next month  30000 non-null  int64\n",
      "dtypes: int64(1)\n",
      "memory usage: 234.5 KB\n"
     ]
    },
    {
     "data": {
      "text/plain": [
       "(None, None)"
      ]
     },
     "execution_count": 4,
     "metadata": {},
     "output_type": "execute_result"
    }
   ],
   "source": [
    "#split Credit dataset in features and target variable\n",
    "credit_feature_cols = ['LIMIT_BAL','SEX','EDUCATION','MARRIAGE','AGE','PAY_0','PAY_2','PAY_3','PAY_4','PAY_5','PAY_6','BILL_AMT1','BILL_AMT2','BILL_AMT3','BILL_AMT4','BILL_AMT5','BILL_AMT6','PAY_AMT1','PAY_AMT2','PAY_AMT3','PAY_AMT4','PAY_AMT5','PAY_AMT6']\n",
    "creditX = creditdata.reindex(columns =credit_feature_cols) # Features\n",
    "# print('creditX head')\n",
    "# print(creditX.head())\n",
    "# print(creditX.info())\n",
    "# print()\n",
    "creditY = creditdata.reindex(columns =['default payment next month']) # Target variable\n",
    "# print( 'CreditY Value Counts before replacement')\n",
    "# print(creditY.value_counts())\n",
    "# print()\n",
    "# All the credit non-defaulters = 1, all the credit defaulters= -1\n",
    "creditY = creditY.replace(['0','1'], [1,-1],regex=True)\n",
    "creditY = creditY.astype('int64')\n",
    "# print( 'CreditY Value Counts after replacement')\n",
    "# print(creditY.value_counts())\n",
    "# print()\n",
    "creditX.info(), creditY.info()"
   ]
  },
  {
   "cell_type": "markdown",
   "id": "consecutive-rebecca",
   "metadata": {},
   "source": [
    "### Splitting the Datasets"
   ]
  },
  {
   "cell_type": "code",
   "execution_count": 5,
   "id": "intermediate-oxide",
   "metadata": {},
   "outputs": [],
   "source": [
    "# Splitting Credit Dataset\n",
    "sss = StratifiedShuffleSplit(n_splits=1, test_size=0.2, random_state=10)\n",
    "sss.get_n_splits(creditX, creditY)\n",
    "for train_index, test_index in sss.split(creditX, creditY):\n",
    "    creditx_train, creditx_test = creditX.loc[train_index], creditX.loc[test_index]\n",
    "    credity_train, credity_test = creditY.loc[train_index], creditY.loc[test_index]"
   ]
  },
  {
   "cell_type": "markdown",
   "id": "strategic-crest",
   "metadata": {},
   "source": [
    "### Neural Network using Random Hill Climbing Optimization "
   ]
  },
  {
   "cell_type": "code",
   "execution_count": 6,
   "id": "constant-poultry",
   "metadata": {},
   "outputs": [
    {
     "name": "stdout",
     "output_type": "stream",
     "text": [
      "CPU times: user 34.8 s, sys: 311 ms, total: 35.1 s\n",
      "Wall time: 5.88 s\n"
     ]
    },
    {
     "data": {
      "text/plain": [
       "NeuralNetwork(bias=True, clip_max=5, early_stopping=True, hidden_nodes=[2],\n",
       "              is_classifier=True, learning_rate=0.001, max_iters=1000,\n",
       "              mutation_prob=0.1, pop_size=200, restarts=0,\n",
       "              schedule=<mlrose.decay.GeomDecay object at 0x7fe49ed1f490>)"
      ]
     },
     "execution_count": 6,
     "metadata": {},
     "output_type": "execute_result"
    }
   ],
   "source": [
    "%%time\n",
    "# Running Random Hill Climb on Credit Dataset\n",
    "rhcnn_model1 = mlrose.NeuralNetwork(hidden_nodes = [2], activation = 'relu',\n",
    "                                 algorithm = 'random_hill_climb', \n",
    "                                 max_iters = 1000,\n",
    "                                 bias = True, \n",
    "                                 is_classifier = True, \n",
    "                                 learning_rate = 0.001,\n",
    "                                 early_stopping = True,\n",
    "                                 clip_max = 5,\n",
    "                                 max_attempts = 100,\n",
    "                                 random_state = 3)\n",
    "\n",
    "rhcnn_model1.fit(creditx_train, credity_train)"
   ]
  },
  {
   "cell_type": "markdown",
   "id": "joined-desktop",
   "metadata": {},
   "source": [
    "### Neural Network with Random Hill Climb Train Predictions"
   ]
  },
  {
   "cell_type": "code",
   "execution_count": 7,
   "id": "southwest-benjamin",
   "metadata": {},
   "outputs": [
    {
     "name": "stdout",
     "output_type": "stream",
     "text": [
      "              precision    recall  f1-score   support\n",
      "\n",
      "           0    0.77879   1.00000   0.87564     18691\n",
      "           1    0.00000   0.00000   0.00000      5309\n",
      "\n",
      "    accuracy                        0.77879     24000\n",
      "   macro avg    0.38940   0.50000   0.43782     24000\n",
      "weighted avg    0.60652   0.77879   0.68194     24000\n",
      "\n",
      "[[18691     0]\n",
      " [ 5309     0]]\n"
     ]
    }
   ],
   "source": [
    "credity_rhcnn_train_predictions = rhcnn_model1.predict(creditx_train)\n",
    "print(classification_report(credity_train, credity_rhcnn_train_predictions, digits=5))\n",
    "print(confusion_matrix(credity_train, credity_rhcnn_train_predictions))"
   ]
  },
  {
   "cell_type": "markdown",
   "id": "quiet-jason",
   "metadata": {},
   "source": [
    "### Neural Network with Random Hill Climb Test Predictions"
   ]
  },
  {
   "cell_type": "code",
   "execution_count": 8,
   "id": "dynamic-prescription",
   "metadata": {
    "scrolled": true
   },
   "outputs": [
    {
     "name": "stdout",
     "output_type": "stream",
     "text": [
      "              precision    recall  f1-score   support\n",
      "\n",
      "           0    0.77883   1.00000   0.87567      4673\n",
      "           1    0.00000   0.00000   0.00000      1327\n",
      "\n",
      "    accuracy                        0.77883      6000\n",
      "   macro avg    0.38942   0.50000   0.43783      6000\n",
      "weighted avg    0.60658   0.77883   0.68200      6000\n",
      "\n",
      "[[4673    0]\n",
      " [1327    0]]\n"
     ]
    }
   ],
   "source": [
    "credity_rhcnn_test_predictions = rhcnn_model1.predict(creditx_test)\n",
    "print(classification_report(credity_test, credity_rhcnn_test_predictions, digits=5))\n",
    "print(confusion_matrix(credity_test, credity_rhcnn_test_predictions))"
   ]
  },
  {
   "cell_type": "markdown",
   "id": "announced-asbestos",
   "metadata": {},
   "source": [
    "### Neural Network using Simulated Anealing Optimization "
   ]
  },
  {
   "cell_type": "code",
   "execution_count": 9,
   "id": "passive-roots",
   "metadata": {},
   "outputs": [
    {
     "name": "stdout",
     "output_type": "stream",
     "text": [
      "CPU times: user 49.1 s, sys: 345 ms, total: 49.4 s\n",
      "Wall time: 8.28 s\n"
     ]
    },
    {
     "data": {
      "text/plain": [
       "NeuralNetwork(bias=True, clip_max=3, early_stopping=True, hidden_nodes=[2],\n",
       "              is_classifier=True, learning_rate=0.001, max_iters=1000,\n",
       "              mutation_prob=0.1, pop_size=200, restarts=0,\n",
       "              schedule=<mlrose.decay.GeomDecay object at 0x7fe49ed1f490>)"
      ]
     },
     "execution_count": 9,
     "metadata": {},
     "output_type": "execute_result"
    }
   ],
   "source": [
    "%%time\n",
    "sann_model1 = mlrose.NeuralNetwork(hidden_nodes = [2], activation = 'relu',\n",
    "                                 algorithm = 'simulated_annealing', \n",
    "                                 max_iters = 1000,\n",
    "                                 bias = True, \n",
    "                                 is_classifier = True, \n",
    "                                 learning_rate = 0.001,\n",
    "                                 early_stopping = True,\n",
    "                                 clip_max = 3,\n",
    "                                 max_attempts = 100,\n",
    "                                 random_state = 3)\n",
    "\n",
    "\n",
    "sann_model1.fit(creditx_train, credity_train)"
   ]
  },
  {
   "cell_type": "markdown",
   "id": "stone-redhead",
   "metadata": {},
   "source": [
    "### Neural Network with Simulated Anealing Train Predictions"
   ]
  },
  {
   "cell_type": "code",
   "execution_count": 10,
   "id": "rocky-lawsuit",
   "metadata": {},
   "outputs": [
    {
     "name": "stdout",
     "output_type": "stream",
     "text": [
      "              precision    recall  f1-score   support\n",
      "\n",
      "           0    0.77879   1.00000   0.87564     18691\n",
      "           1    0.00000   0.00000   0.00000      5309\n",
      "\n",
      "    accuracy                        0.77879     24000\n",
      "   macro avg    0.38940   0.50000   0.43782     24000\n",
      "weighted avg    0.60652   0.77879   0.68194     24000\n",
      "\n",
      "[[18691     0]\n",
      " [ 5309     0]]\n"
     ]
    }
   ],
   "source": [
    "credity_sann_train_predictions = sann_model1.predict(creditx_train)\n",
    "print(classification_report(credity_train, credity_sann_train_predictions, digits=5))\n",
    "print(confusion_matrix(credity_train, credity_sann_train_predictions))"
   ]
  },
  {
   "cell_type": "markdown",
   "id": "civilian-course",
   "metadata": {},
   "source": [
    "### Neural Network with Simulated Anealing Test Predictions"
   ]
  },
  {
   "cell_type": "code",
   "execution_count": 11,
   "id": "super-jenny",
   "metadata": {
    "scrolled": true
   },
   "outputs": [
    {
     "name": "stdout",
     "output_type": "stream",
     "text": [
      "              precision    recall  f1-score   support\n",
      "\n",
      "           0    0.77883   1.00000   0.87567      4673\n",
      "           1    0.00000   0.00000   0.00000      1327\n",
      "\n",
      "    accuracy                        0.77883      6000\n",
      "   macro avg    0.38942   0.50000   0.43783      6000\n",
      "weighted avg    0.60658   0.77883   0.68200      6000\n",
      "\n",
      "[[4673    0]\n",
      " [1327    0]]\n"
     ]
    }
   ],
   "source": [
    "credity_sann_test_predictions = sann_model1.predict(creditx_test)\n",
    "print(classification_report(credity_test, credity_sann_test_predictions, digits=5))\n",
    "print(confusion_matrix(credity_test, credity_sann_test_predictions))"
   ]
  },
  {
   "cell_type": "markdown",
   "id": "short-poverty",
   "metadata": {},
   "source": [
    "### Neural Network using Genetic Algorithm Optimization "
   ]
  },
  {
   "cell_type": "code",
   "execution_count": 12,
   "id": "powerful-century",
   "metadata": {},
   "outputs": [
    {
     "name": "stdout",
     "output_type": "stream",
     "text": [
      "CPU times: user 21min 55s, sys: 14.9 s, total: 22min 10s\n",
      "Wall time: 3min 43s\n"
     ]
    },
    {
     "data": {
      "text/plain": [
       "NeuralNetwork(bias=True, clip_max=3, early_stopping=True, hidden_nodes=[10],\n",
       "              is_classifier=True, learning_rate=0.001, max_iters=1000,\n",
       "              mutation_prob=0.25, pop_size=200, restarts=0,\n",
       "              schedule=<mlrose.decay.GeomDecay object at 0x7fe49ed1f490>)"
      ]
     },
     "execution_count": 12,
     "metadata": {},
     "output_type": "execute_result"
    }
   ],
   "source": [
    "%%time\n",
    "gann_model1 = mlrose.NeuralNetwork(hidden_nodes = [10], activation = 'relu',\n",
    "                                 algorithm = 'genetic_alg', \n",
    "                                 max_iters = 1000,\n",
    "                                 bias = True, \n",
    "                                 is_classifier = True, \n",
    "                                 learning_rate = 0.001,\n",
    "                                 early_stopping = True,\n",
    "                                 clip_max = 3,\n",
    "                                 max_attempts = 100,\n",
    "                                 random_state = 3,\n",
    "                                 pop_size=200,\n",
    "                                 mutation_prob=0.25)\n",
    "gann_model1.fit(creditx_train, credity_train)"
   ]
  },
  {
   "cell_type": "markdown",
   "id": "opposed-alert",
   "metadata": {},
   "source": [
    "### Neural Network with Genetic Algorithm Train Predictions"
   ]
  },
  {
   "cell_type": "code",
   "execution_count": 13,
   "id": "stopped-virus",
   "metadata": {},
   "outputs": [
    {
     "name": "stdout",
     "output_type": "stream",
     "text": [
      "              precision    recall  f1-score   support\n",
      "\n",
      "           0    0.77723   0.92344   0.84405     18691\n",
      "           1    0.20190   0.06819   0.10194      5309\n",
      "\n",
      "    accuracy                        0.73425     24000\n",
      "   macro avg    0.48956   0.49581   0.47300     24000\n",
      "weighted avg    0.64996   0.73425   0.67989     24000\n",
      "\n",
      "[[17260  1431]\n",
      " [ 4947   362]]\n"
     ]
    }
   ],
   "source": [
    "credity_gann_train_predictions = gann_model1.predict(creditx_train)\n",
    "print(classification_report(credity_train, credity_gann_train_predictions, digits=5))\n",
    "print(confusion_matrix(credity_train, credity_gann_train_predictions))"
   ]
  },
  {
   "cell_type": "markdown",
   "id": "signal-entertainment",
   "metadata": {},
   "source": [
    "### Neural Network with Genetic Algorithm  Test Predictions"
   ]
  },
  {
   "cell_type": "code",
   "execution_count": 14,
   "id": "unnecessary-council",
   "metadata": {
    "scrolled": true
   },
   "outputs": [
    {
     "name": "stdout",
     "output_type": "stream",
     "text": [
      "              precision    recall  f1-score   support\n",
      "\n",
      "           0    0.78117   0.93195   0.84992      4673\n",
      "           1    0.25176   0.08063   0.12215      1327\n",
      "\n",
      "    accuracy                        0.74367      6000\n",
      "   macro avg    0.51647   0.50629   0.48603      6000\n",
      "weighted avg    0.66408   0.74367   0.68896      6000\n",
      "\n",
      "[[4355  318]\n",
      " [1220  107]]\n"
     ]
    }
   ],
   "source": [
    "credity_gann_test_predictions = gann_model1.predict(creditx_test)\n",
    "print(classification_report(credity_test, credity_gann_test_predictions, digits=5))\n",
    "print(confusion_matrix(credity_test, credity_gann_test_predictions))"
   ]
  },
  {
   "cell_type": "code",
   "execution_count": null,
   "id": "amended-somerset",
   "metadata": {},
   "outputs": [],
   "source": []
  }
 ],
 "metadata": {
  "kernelspec": {
   "display_name": "Python 3",
   "language": "python",
   "name": "python3"
  },
  "language_info": {
   "codemirror_mode": {
    "name": "ipython",
    "version": 3
   },
   "file_extension": ".py",
   "mimetype": "text/x-python",
   "name": "python",
   "nbconvert_exporter": "python",
   "pygments_lexer": "ipython3",
   "version": "3.7.6"
  }
 },
 "nbformat": 4,
 "nbformat_minor": 5
}
