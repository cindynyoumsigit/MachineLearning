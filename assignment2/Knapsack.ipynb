{
 "cells": [
  {
   "cell_type": "markdown",
   "id": "immune-processing",
   "metadata": {},
   "source": [
    "# Random Search Algorithms"
   ]
  },
  {
   "cell_type": "markdown",
   "id": "gorgeous-tiger",
   "metadata": {},
   "source": [
    "### Importing Necessary Libraries\n"
   ]
  },
  {
   "cell_type": "code",
   "execution_count": 1,
   "id": "alien-brand",
   "metadata": {},
   "outputs": [],
   "source": [
    "import six\n",
    "import sys\n",
    "sys.modules['sklearn.externals.six'] = six\n",
    "import mlrose\n",
    "import numpy as np\n",
    "import pandas as pd\n",
    "import seaborn as sns\n",
    "import mlrose_hiive\n",
    "import matplotlib.pyplot as plt\n",
    "np.random.seed(44)\n",
    "sns.set_style(\"darkgrid\")"
   ]
  },
  {
   "cell_type": "markdown",
   "id": "olive-division",
   "metadata": {},
   "source": [
    "### Defining Knapsack Problems Parameters"
   ]
  },
  {
   "cell_type": "code",
   "execution_count": 2,
   "id": "advance-cream",
   "metadata": {},
   "outputs": [],
   "source": [
    "knapsack_len = 200\n",
    "# weights between 10 to 50\n",
    "knapsack_weights=np.random.uniform(10,50, knapsack_len)\n",
    "# values between 10 to 20\n",
    "knapsack_values=np.random.uniform(10,20, knapsack_len)"
   ]
  },
  {
   "cell_type": "markdown",
   "id": "surprised-induction",
   "metadata": {},
   "source": [
    "### Defining a fitness function and Optimization Problem Object"
   ]
  },
  {
   "cell_type": "code",
   "execution_count": 3,
   "id": "unknown-ebony",
   "metadata": {},
   "outputs": [
    {
     "name": "stdout",
     "output_type": "stream",
     "text": [
      "CPU times: user 226 µs, sys: 6 µs, total: 232 µs\n",
      "Wall time: 237 µs\n"
     ]
    }
   ],
   "source": [
    "%%time\n",
    "# DiscreteOpt() takes integers in range 0 to max_val -1 defined at initialization\n",
    "max_weight_pct = 0.5\n",
    "problem = mlrose_hiive.KnapsackOpt(weights = knapsack_weights, values = knapsack_values,\n",
    "                                  max_weight_pct = max_weight_pct)"
   ]
  },
  {
   "cell_type": "markdown",
   "id": "noticed-transparency",
   "metadata": {},
   "source": [
    "### Optimization #1 Genetic Algorithm"
   ]
  },
  {
   "cell_type": "markdown",
   "id": "designed-leader",
   "metadata": {},
   "source": [
    "#### Run GA on Knapsack problem"
   ]
  },
  {
   "cell_type": "code",
   "execution_count": 4,
   "id": "abandoned-chance",
   "metadata": {},
   "outputs": [
    {
     "name": "stdout",
     "output_type": "stream",
     "text": [
      "CPU times: user 36.4 s, sys: 253 ms, total: 36.7 s\n",
      "Wall time: 37.4 s\n"
     ]
    }
   ],
   "source": [
    "%%time\n",
    "ga = mlrose_hiive.GARunner(problem=problem,\n",
    "                          experiment_name=\"GA_Exp\",\n",
    "                          seed=44,\n",
    "                          iteration_list = [10000],\n",
    "                          max_attempts = 100,\n",
    "                          population_sizes = [100, 500],\n",
    "                          mutation_rates = [0.1, 0.25, 0.5])\n",
    "\n",
    "ga_run_stats, ga_run_curves = ga.run()"
   ]
  },
  {
   "cell_type": "code",
   "execution_count": 5,
   "id": "plain-nelson",
   "metadata": {},
   "outputs": [
    {
     "data": {
      "text/html": [
       "<div>\n",
       "<style scoped>\n",
       "    .dataframe tbody tr th:only-of-type {\n",
       "        vertical-align: middle;\n",
       "    }\n",
       "\n",
       "    .dataframe tbody tr th {\n",
       "        vertical-align: top;\n",
       "    }\n",
       "\n",
       "    .dataframe thead th {\n",
       "        text-align: right;\n",
       "    }\n",
       "</style>\n",
       "<table border=\"1\" class=\"dataframe\">\n",
       "  <thead>\n",
       "    <tr style=\"text-align: right;\">\n",
       "      <th></th>\n",
       "      <th>Iteration</th>\n",
       "      <th>Time</th>\n",
       "      <th>Fitness</th>\n",
       "      <th>FEvals</th>\n",
       "      <th>Population Size</th>\n",
       "      <th>Mutation Rate</th>\n",
       "      <th>max_iters</th>\n",
       "    </tr>\n",
       "  </thead>\n",
       "  <tbody>\n",
       "    <tr>\n",
       "      <th>0</th>\n",
       "      <td>0</td>\n",
       "      <td>0.005233</td>\n",
       "      <td>1527.84005</td>\n",
       "      <td>100.0</td>\n",
       "      <td>100</td>\n",
       "      <td>0.1</td>\n",
       "      <td>10000</td>\n",
       "    </tr>\n",
       "    <tr>\n",
       "      <th>1</th>\n",
       "      <td>1</td>\n",
       "      <td>0.017438</td>\n",
       "      <td>1653.55825</td>\n",
       "      <td>202.0</td>\n",
       "      <td>100</td>\n",
       "      <td>0.1</td>\n",
       "      <td>10000</td>\n",
       "    </tr>\n",
       "    <tr>\n",
       "      <th>2</th>\n",
       "      <td>2</td>\n",
       "      <td>0.024889</td>\n",
       "      <td>1653.55825</td>\n",
       "      <td>303.0</td>\n",
       "      <td>100</td>\n",
       "      <td>0.1</td>\n",
       "      <td>10000</td>\n",
       "    </tr>\n",
       "    <tr>\n",
       "      <th>3</th>\n",
       "      <td>3</td>\n",
       "      <td>0.032144</td>\n",
       "      <td>1653.55825</td>\n",
       "      <td>404.0</td>\n",
       "      <td>100</td>\n",
       "      <td>0.1</td>\n",
       "      <td>10000</td>\n",
       "    </tr>\n",
       "    <tr>\n",
       "      <th>4</th>\n",
       "      <td>4</td>\n",
       "      <td>0.039098</td>\n",
       "      <td>1653.55825</td>\n",
       "      <td>505.0</td>\n",
       "      <td>100</td>\n",
       "      <td>0.1</td>\n",
       "      <td>10000</td>\n",
       "    </tr>\n",
       "    <tr>\n",
       "      <th>...</th>\n",
       "      <td>...</td>\n",
       "      <td>...</td>\n",
       "      <td>...</td>\n",
       "      <td>...</td>\n",
       "      <td>...</td>\n",
       "      <td>...</td>\n",
       "      <td>...</td>\n",
       "    </tr>\n",
       "    <tr>\n",
       "      <th>1691</th>\n",
       "      <td>300</td>\n",
       "      <td>0.460448</td>\n",
       "      <td>2036.19639</td>\n",
       "      <td>150847.0</td>\n",
       "      <td>500</td>\n",
       "      <td>0.5</td>\n",
       "      <td>10000</td>\n",
       "    </tr>\n",
       "    <tr>\n",
       "      <th>1692</th>\n",
       "      <td>301</td>\n",
       "      <td>0.469233</td>\n",
       "      <td>2036.19639</td>\n",
       "      <td>151348.0</td>\n",
       "      <td>500</td>\n",
       "      <td>0.5</td>\n",
       "      <td>10000</td>\n",
       "    </tr>\n",
       "    <tr>\n",
       "      <th>1693</th>\n",
       "      <td>302</td>\n",
       "      <td>0.476165</td>\n",
       "      <td>2036.19639</td>\n",
       "      <td>151849.0</td>\n",
       "      <td>500</td>\n",
       "      <td>0.5</td>\n",
       "      <td>10000</td>\n",
       "    </tr>\n",
       "    <tr>\n",
       "      <th>1694</th>\n",
       "      <td>303</td>\n",
       "      <td>0.483258</td>\n",
       "      <td>2036.19639</td>\n",
       "      <td>152350.0</td>\n",
       "      <td>500</td>\n",
       "      <td>0.5</td>\n",
       "      <td>10000</td>\n",
       "    </tr>\n",
       "    <tr>\n",
       "      <th>1695</th>\n",
       "      <td>304</td>\n",
       "      <td>0.490254</td>\n",
       "      <td>2036.19639</td>\n",
       "      <td>152851.0</td>\n",
       "      <td>500</td>\n",
       "      <td>0.5</td>\n",
       "      <td>10000</td>\n",
       "    </tr>\n",
       "  </tbody>\n",
       "</table>\n",
       "<p>1696 rows × 7 columns</p>\n",
       "</div>"
      ],
      "text/plain": [
       "      Iteration      Time     Fitness    FEvals  Population Size  \\\n",
       "0             0  0.005233  1527.84005     100.0              100   \n",
       "1             1  0.017438  1653.55825     202.0              100   \n",
       "2             2  0.024889  1653.55825     303.0              100   \n",
       "3             3  0.032144  1653.55825     404.0              100   \n",
       "4             4  0.039098  1653.55825     505.0              100   \n",
       "...         ...       ...         ...       ...              ...   \n",
       "1691        300  0.460448  2036.19639  150847.0              500   \n",
       "1692        301  0.469233  2036.19639  151348.0              500   \n",
       "1693        302  0.476165  2036.19639  151849.0              500   \n",
       "1694        303  0.483258  2036.19639  152350.0              500   \n",
       "1695        304  0.490254  2036.19639  152851.0              500   \n",
       "\n",
       "      Mutation Rate  max_iters  \n",
       "0               0.1      10000  \n",
       "1               0.1      10000  \n",
       "2               0.1      10000  \n",
       "3               0.1      10000  \n",
       "4               0.1      10000  \n",
       "...             ...        ...  \n",
       "1691            0.5      10000  \n",
       "1692            0.5      10000  \n",
       "1693            0.5      10000  \n",
       "1694            0.5      10000  \n",
       "1695            0.5      10000  \n",
       "\n",
       "[1696 rows x 7 columns]"
      ]
     },
     "execution_count": 5,
     "metadata": {},
     "output_type": "execute_result"
    }
   ],
   "source": [
    "ga_run_curves"
   ]
  },
  {
   "cell_type": "markdown",
   "id": "minimal-temple",
   "metadata": {},
   "source": [
    "#### Output Fitnes Value Statists"
   ]
  },
  {
   "cell_type": "code",
   "execution_count": 6,
   "id": "annual-cheese",
   "metadata": {},
   "outputs": [
    {
     "name": "stdout",
     "output_type": "stream",
     "text": [
      "Max and mean\n",
      "2036.2024278581025 2024.9008342547402 6.235364885666667\n",
      "Mutation Rate\n",
      "0.10    2015.619850\n",
      "0.25    2029.038589\n",
      "0.50    2030.044063\n",
      "Name: Fitness, dtype: float64\n",
      "Population Size\n",
      "100    2013.761479\n",
      "500    2036.040189\n",
      "Name: Fitness, dtype: float64\n",
      "Population Size\n",
      "100     1.880436\n",
      "500    10.590294\n",
      "Name: Time, dtype: float64\n"
     ]
    }
   ],
   "source": [
    "last_iters = ga_run_stats[ga_run_stats.Iteration != 0].reset_index()\n",
    "print(\"Max and mean\")\n",
    "print(last_iters.Fitness.max(), last_iters.Fitness.mean(), last_iters.Time.mean())\n",
    "print(last_iters.groupby(\"Mutation Rate\").Fitness.mean())\n",
    "print(last_iters.groupby(\"Population Size\").Fitness.mean())\n",
    "print(last_iters.groupby(\"Population Size\").Time.mean())"
   ]
  },
  {
   "cell_type": "markdown",
   "id": "imported-values",
   "metadata": {},
   "source": [
    "#### Plot Fitness to Iterations Chart"
   ]
  },
  {
   "cell_type": "code",
   "execution_count": 7,
   "id": "compact-cigarette",
   "metadata": {},
   "outputs": [
    {
     "data": {
      "image/png": "[encoded data removed]",
      "text/plain": [
       "<Figure size 432x288 with 1 Axes>"
      ]
     },
     "metadata": {},
     "output_type": "display_data"
    }
   ],
   "source": [
    "# draw lineplot \n",
    "ga_run_curves_mu1 = ga_run_curves[ga_run_curves['Mutation Rate'] == 0.1] \n",
    "ga_run_curves_mu2 = ga_run_curves[ga_run_curves['Mutation Rate'] == 0.25] \n",
    "ga_run_curves_mu3 = ga_run_curves[ga_run_curves['Mutation Rate'] == 0.5] \n",
    "sns.lineplot(x=\"Iteration\", y=\"Fitness\", data=ga_run_curves_mu1, label = \"mr = 0.1\") \n",
    "sns.lineplot(x=\"Iteration\", y=\"Fitness\", data=ga_run_curves_mu2, label = \"mr = 0.25\") \n",
    "sns.lineplot(x=\"Iteration\", y=\"Fitness\", data=ga_run_curves_mu3, label = \"mr = 0.5\") \n",
    "plt.title('Knapsack GA Fitness Vs Iterations')\n",
    "plt.show()"
   ]
  },
  {
   "cell_type": "markdown",
   "id": "unauthorized-cycle",
   "metadata": {},
   "source": [
    "### Optimization #2 Simulated Annealing"
   ]
  },
  {
   "cell_type": "markdown",
   "id": "impossible-dragon",
   "metadata": {},
   "source": [
    "#### Run SA on Knapsack problem"
   ]
  },
  {
   "cell_type": "code",
   "execution_count": 8,
   "id": "wicked-collapse",
   "metadata": {},
   "outputs": [
    {
     "name": "stdout",
     "output_type": "stream",
     "text": [
      "CPU times: user 1.91 s, sys: 48.4 ms, total: 1.96 s\n",
      "Wall time: 1.93 s\n"
     ]
    }
   ],
   "source": [
    "%%time\n",
    "sa = mlrose_hiive.SARunner(problem, experiment_name=\"SA_Exp\", \n",
    "                           iteration_list=[10000],\n",
    "                           temperature_list=[10, 50, 100, 250, 500],\n",
    "                           decay_list=[mlrose_hiive.ExpDecay,\n",
    "                                       mlrose_hiive.GeomDecay],\n",
    "                           seed=44, max_attempts=100)\n",
    "\n",
    "sa_run_stats, sa_run_curves = sa.run()"
   ]
  },
  {
   "cell_type": "markdown",
   "id": "dressed-progress",
   "metadata": {},
   "source": [
    "#### Output Fitnes Value Statists"
   ]
  },
  {
   "cell_type": "code",
   "execution_count": 9,
   "id": "monthly-internet",
   "metadata": {},
   "outputs": [
    {
     "name": "stdout",
     "output_type": "stream",
     "text": [
      "Mean: 1604.1555989071885 \n",
      "Min: 1713.6176213906024 \n",
      "Max: 1713.6176213906024\n",
      "Mean Time; 0.1858391164000004\n"
     ]
    }
   ],
   "source": [
    "last_iters = sa_run_stats[sa_run_stats.Iteration != 0].reset_index()\n",
    "print('Mean:', last_iters.Fitness.mean(), '\\nMin:',last_iters.Fitness.max(),'\\nMax:',last_iters.Fitness.max())\n",
    "print('Mean Time;',last_iters.Time.mean())"
   ]
  },
  {
   "cell_type": "markdown",
   "id": "beautiful-shadow",
   "metadata": {},
   "source": [
    "#### Plot Fitness to Iterations Chart"
   ]
  },
  {
   "cell_type": "code",
   "execution_count": 10,
   "id": "lucky-lottery",
   "metadata": {},
   "outputs": [
    {
     "data": {
      "image/png": "[encoded data removed]",
      "text/plain": [
       "<Figure size 432x288 with 1 Axes>"
      ]
     },
     "metadata": {},
     "output_type": "display_data"
    },
    {
     "data": {
      "text/html": [
       "<div>\n",
       "<style scoped>\n",
       "    .dataframe tbody tr th:only-of-type {\n",
       "        vertical-align: middle;\n",
       "    }\n",
       "\n",
       "    .dataframe tbody tr th {\n",
       "        vertical-align: top;\n",
       "    }\n",
       "\n",
       "    .dataframe thead th {\n",
       "        text-align: right;\n",
       "    }\n",
       "</style>\n",
       "<table border=\"1\" class=\"dataframe\">\n",
       "  <thead>\n",
       "    <tr style=\"text-align: right;\">\n",
       "      <th></th>\n",
       "      <th>Iteration</th>\n",
       "      <th>Time</th>\n",
       "      <th>Fitness</th>\n",
       "      <th>FEvals</th>\n",
       "      <th>Temperature</th>\n",
       "      <th>max_iters</th>\n",
       "    </tr>\n",
       "  </thead>\n",
       "  <tbody>\n",
       "    <tr>\n",
       "      <th>0</th>\n",
       "      <td>0</td>\n",
       "      <td>0.000158</td>\n",
       "      <td>1527.840050</td>\n",
       "      <td>0.0</td>\n",
       "      <td>10.0</td>\n",
       "      <td>10000</td>\n",
       "    </tr>\n",
       "    <tr>\n",
       "      <th>1</th>\n",
       "      <td>1</td>\n",
       "      <td>0.002933</td>\n",
       "      <td>1527.840050</td>\n",
       "      <td>1.0</td>\n",
       "      <td>10.0</td>\n",
       "      <td>10000</td>\n",
       "    </tr>\n",
       "    <tr>\n",
       "      <th>2</th>\n",
       "      <td>2</td>\n",
       "      <td>0.003023</td>\n",
       "      <td>1545.823184</td>\n",
       "      <td>3.0</td>\n",
       "      <td>10.0</td>\n",
       "      <td>10000</td>\n",
       "    </tr>\n",
       "    <tr>\n",
       "      <th>3</th>\n",
       "      <td>3</td>\n",
       "      <td>0.003110</td>\n",
       "      <td>1531.883188</td>\n",
       "      <td>5.0</td>\n",
       "      <td>10.0</td>\n",
       "      <td>10000</td>\n",
       "    </tr>\n",
       "    <tr>\n",
       "      <th>4</th>\n",
       "      <td>4</td>\n",
       "      <td>0.003169</td>\n",
       "      <td>1531.883188</td>\n",
       "      <td>6.0</td>\n",
       "      <td>10.0</td>\n",
       "      <td>10000</td>\n",
       "    </tr>\n",
       "    <tr>\n",
       "      <th>...</th>\n",
       "      <td>...</td>\n",
       "      <td>...</td>\n",
       "      <td>...</td>\n",
       "      <td>...</td>\n",
       "      <td>...</td>\n",
       "      <td>...</td>\n",
       "    </tr>\n",
       "    <tr>\n",
       "      <th>5640</th>\n",
       "      <td>612</td>\n",
       "      <td>0.023774</td>\n",
       "      <td>1570.387239</td>\n",
       "      <td>881.0</td>\n",
       "      <td>500.0</td>\n",
       "      <td>10000</td>\n",
       "    </tr>\n",
       "    <tr>\n",
       "      <th>5641</th>\n",
       "      <td>613</td>\n",
       "      <td>0.023973</td>\n",
       "      <td>1570.387239</td>\n",
       "      <td>882.0</td>\n",
       "      <td>500.0</td>\n",
       "      <td>10000</td>\n",
       "    </tr>\n",
       "    <tr>\n",
       "      <th>5642</th>\n",
       "      <td>614</td>\n",
       "      <td>0.024158</td>\n",
       "      <td>1570.387239</td>\n",
       "      <td>883.0</td>\n",
       "      <td>500.0</td>\n",
       "      <td>10000</td>\n",
       "    </tr>\n",
       "    <tr>\n",
       "      <th>5643</th>\n",
       "      <td>615</td>\n",
       "      <td>0.024348</td>\n",
       "      <td>1570.387239</td>\n",
       "      <td>884.0</td>\n",
       "      <td>500.0</td>\n",
       "      <td>10000</td>\n",
       "    </tr>\n",
       "    <tr>\n",
       "      <th>5644</th>\n",
       "      <td>616</td>\n",
       "      <td>0.024522</td>\n",
       "      <td>1570.387239</td>\n",
       "      <td>885.0</td>\n",
       "      <td>500.0</td>\n",
       "      <td>10000</td>\n",
       "    </tr>\n",
       "  </tbody>\n",
       "</table>\n",
       "<p>5645 rows × 6 columns</p>\n",
       "</div>"
      ],
      "text/plain": [
       "      Iteration      Time      Fitness  FEvals  Temperature  max_iters\n",
       "0             0  0.000158  1527.840050     0.0         10.0      10000\n",
       "1             1  0.002933  1527.840050     1.0         10.0      10000\n",
       "2             2  0.003023  1545.823184     3.0         10.0      10000\n",
       "3             3  0.003110  1531.883188     5.0         10.0      10000\n",
       "4             4  0.003169  1531.883188     6.0         10.0      10000\n",
       "...         ...       ...          ...     ...          ...        ...\n",
       "5640        612  0.023774  1570.387239   881.0        500.0      10000\n",
       "5641        613  0.023973  1570.387239   882.0        500.0      10000\n",
       "5642        614  0.024158  1570.387239   883.0        500.0      10000\n",
       "5643        615  0.024348  1570.387239   884.0        500.0      10000\n",
       "5644        616  0.024522  1570.387239   885.0        500.0      10000\n",
       "\n",
       "[5645 rows x 6 columns]"
      ]
     },
     "execution_count": 10,
     "metadata": {},
     "output_type": "execute_result"
    }
   ],
   "source": [
    "best_index_in_curve = sa_run_curves.Fitness.idxmax()\n",
    "best_decay = sa_run_curves.iloc[best_index_in_curve].Temperature\n",
    "best_sa_curve = sa_run_curves.loc[sa_run_curves.Temperature == best_decay, :]\n",
    "best_sa_curve.reset_index(inplace=True)\n",
    "\n",
    "\n",
    "# draw lineplot \n",
    "sa_run_curves['Temperature'] = sa_run_curves['Temperature'].astype(str).astype(float)\n",
    "sa_run_curves_t1 = sa_run_curves[sa_run_curves['Temperature'] == 10] \n",
    "sa_run_curves_t2 = sa_run_curves[sa_run_curves['Temperature'] == 50] \n",
    "sa_run_curves_t3 = sa_run_curves[sa_run_curves['Temperature'] == 100]\n",
    "sa_run_curves_t4 = sa_run_curves[sa_run_curves['Temperature'] == 250] \n",
    "sa_run_curves_t5 = sa_run_curves[sa_run_curves['Temperature'] == 500] \n",
    "sns.lineplot(x=\"Iteration\", y=\"Fitness\", data=sa_run_curves_t1, label = \"t = 10\")\n",
    "sns.lineplot(x=\"Iteration\", y=\"Fitness\", data=sa_run_curves_t2, label = \"t = 50\") \n",
    "sns.lineplot(x=\"Iteration\", y=\"Fitness\", data=sa_run_curves_t3, label = \"t = 100\") \n",
    "sns.lineplot(x=\"Iteration\", y=\"Fitness\", data=sa_run_curves_t4, label = \"t = 250\") \n",
    "sns.lineplot(x=\"Iteration\", y=\"Fitness\", data=sa_run_curves_t5, label = \"t = 500\") \n",
    " \n",
    "plt.title('Knapsack SA Fitness Vs Iterations')\n",
    "plt.show()\n",
    "\n",
    "# # draw lineplot \n",
    "# sns.lineplot(x=\"Iteration\", y=\"Fitness\", data=best_sa_curve) \n",
    "# plt.title('Knapsack SA Fitness Vs Iterations')\n",
    "# plt.show()\n",
    "sa_run_curves"
   ]
  },
  {
   "cell_type": "markdown",
   "id": "catholic-hanging",
   "metadata": {},
   "source": [
    "### Optimization #3 MIMIC"
   ]
  },
  {
   "cell_type": "markdown",
   "id": "charged-secretariat",
   "metadata": {},
   "source": [
    "#### Run MIMIC on Knapsack problem"
   ]
  },
  {
   "cell_type": "code",
   "execution_count": 11,
   "id": "varied-agriculture",
   "metadata": {},
   "outputs": [
    {
     "name": "stdout",
     "output_type": "stream",
     "text": [
      "CPU times: user 3min 19s, sys: 42.7 s, total: 4min 2s\n",
      "Wall time: 4min 3s\n"
     ]
    }
   ],
   "source": [
    "%%time\n",
    "mmc = mlrose_hiive.MIMICRunner(problem=problem,\n",
    "                          experiment_name=\"MMC_Exp\",\n",
    "                          seed=44,\n",
    "                          iteration_list=[10000],\n",
    "                          max_attempts=100,\n",
    "                          population_sizes=[100,500],\n",
    "                          keep_percent_list=[0.1, 0.25, 0.5],\n",
    "                          use_fast_mimic=True)\n",
    "\n",
    "# the two data frames will contain the results\n",
    "mmc_run_stats, mmc_run_curves = mmc.run()"
   ]
  },
  {
   "cell_type": "markdown",
   "id": "executive-breast",
   "metadata": {},
   "source": [
    "#### Output Fitnes Value Statists"
   ]
  },
  {
   "cell_type": "code",
   "execution_count": 12,
   "id": "durable-holly",
   "metadata": {},
   "outputs": [
    {
     "name": "stdout",
     "output_type": "stream",
     "text": [
      "Max and mean\n",
      "2018.2417846710173 1871.6384458957439 40.64641568366667\n",
      "Keep Percent\n",
      "0.10    1822.178174\n",
      "0.25    1907.989039\n",
      "0.50    1884.748124\n",
      "Name: Fitness, dtype: float64\n",
      "Population Size\n",
      "100    1738.316525\n",
      "500    2004.960366\n",
      "Name: Fitness, dtype: float64\n",
      "Population Size\n",
      "100    13.099207\n",
      "500    68.193624\n",
      "Name: Time, dtype: float64\n"
     ]
    },
    {
     "data": {
      "text/html": [
       "<div>\n",
       "<style scoped>\n",
       "    .dataframe tbody tr th:only-of-type {\n",
       "        vertical-align: middle;\n",
       "    }\n",
       "\n",
       "    .dataframe tbody tr th {\n",
       "        vertical-align: top;\n",
       "    }\n",
       "\n",
       "    .dataframe thead th {\n",
       "        text-align: right;\n",
       "    }\n",
       "</style>\n",
       "<table border=\"1\" class=\"dataframe\">\n",
       "  <thead>\n",
       "    <tr style=\"text-align: right;\">\n",
       "      <th></th>\n",
       "      <th>Iteration</th>\n",
       "      <th>Time</th>\n",
       "      <th>Fitness</th>\n",
       "      <th>FEvals</th>\n",
       "      <th>use_fast_mimic</th>\n",
       "      <th>Population Size</th>\n",
       "      <th>Keep Percent</th>\n",
       "      <th>max_iters</th>\n",
       "    </tr>\n",
       "  </thead>\n",
       "  <tbody>\n",
       "    <tr>\n",
       "      <th>0</th>\n",
       "      <td>0</td>\n",
       "      <td>0.004612</td>\n",
       "      <td>1527.840050</td>\n",
       "      <td>100.0</td>\n",
       "      <td>True</td>\n",
       "      <td>100</td>\n",
       "      <td>0.1</td>\n",
       "      <td>10000</td>\n",
       "    </tr>\n",
       "    <tr>\n",
       "      <th>1</th>\n",
       "      <td>1</td>\n",
       "      <td>0.063132</td>\n",
       "      <td>1593.571632</td>\n",
       "      <td>202.0</td>\n",
       "      <td>True</td>\n",
       "      <td>100</td>\n",
       "      <td>0.1</td>\n",
       "      <td>10000</td>\n",
       "    </tr>\n",
       "    <tr>\n",
       "      <th>2</th>\n",
       "      <td>2</td>\n",
       "      <td>0.113412</td>\n",
       "      <td>1639.286636</td>\n",
       "      <td>304.0</td>\n",
       "      <td>True</td>\n",
       "      <td>100</td>\n",
       "      <td>0.1</td>\n",
       "      <td>10000</td>\n",
       "    </tr>\n",
       "    <tr>\n",
       "      <th>3</th>\n",
       "      <td>3</td>\n",
       "      <td>0.161629</td>\n",
       "      <td>1658.306438</td>\n",
       "      <td>406.0</td>\n",
       "      <td>True</td>\n",
       "      <td>100</td>\n",
       "      <td>0.1</td>\n",
       "      <td>10000</td>\n",
       "    </tr>\n",
       "    <tr>\n",
       "      <th>4</th>\n",
       "      <td>4</td>\n",
       "      <td>0.210849</td>\n",
       "      <td>1658.306438</td>\n",
       "      <td>507.0</td>\n",
       "      <td>True</td>\n",
       "      <td>100</td>\n",
       "      <td>0.1</td>\n",
       "      <td>10000</td>\n",
       "    </tr>\n",
       "    <tr>\n",
       "      <th>...</th>\n",
       "      <td>...</td>\n",
       "      <td>...</td>\n",
       "      <td>...</td>\n",
       "      <td>...</td>\n",
       "      <td>...</td>\n",
       "      <td>...</td>\n",
       "      <td>...</td>\n",
       "      <td>...</td>\n",
       "    </tr>\n",
       "    <tr>\n",
       "      <th>788</th>\n",
       "      <td>178</td>\n",
       "      <td>7.925187</td>\n",
       "      <td>2010.589404</td>\n",
       "      <td>89715.0</td>\n",
       "      <td>True</td>\n",
       "      <td>500</td>\n",
       "      <td>0.5</td>\n",
       "      <td>10000</td>\n",
       "    </tr>\n",
       "    <tr>\n",
       "      <th>789</th>\n",
       "      <td>179</td>\n",
       "      <td>8.034267</td>\n",
       "      <td>2010.589404</td>\n",
       "      <td>90216.0</td>\n",
       "      <td>True</td>\n",
       "      <td>500</td>\n",
       "      <td>0.5</td>\n",
       "      <td>10000</td>\n",
       "    </tr>\n",
       "    <tr>\n",
       "      <th>790</th>\n",
       "      <td>180</td>\n",
       "      <td>8.146511</td>\n",
       "      <td>2010.589404</td>\n",
       "      <td>90717.0</td>\n",
       "      <td>True</td>\n",
       "      <td>500</td>\n",
       "      <td>0.5</td>\n",
       "      <td>10000</td>\n",
       "    </tr>\n",
       "    <tr>\n",
       "      <th>791</th>\n",
       "      <td>181</td>\n",
       "      <td>8.252866</td>\n",
       "      <td>2010.589404</td>\n",
       "      <td>91218.0</td>\n",
       "      <td>True</td>\n",
       "      <td>500</td>\n",
       "      <td>0.5</td>\n",
       "      <td>10000</td>\n",
       "    </tr>\n",
       "    <tr>\n",
       "      <th>792</th>\n",
       "      <td>182</td>\n",
       "      <td>8.357248</td>\n",
       "      <td>2010.589404</td>\n",
       "      <td>91719.0</td>\n",
       "      <td>True</td>\n",
       "      <td>500</td>\n",
       "      <td>0.5</td>\n",
       "      <td>10000</td>\n",
       "    </tr>\n",
       "  </tbody>\n",
       "</table>\n",
       "<p>793 rows × 8 columns</p>\n",
       "</div>"
      ],
      "text/plain": [
       "     Iteration      Time      Fitness   FEvals  use_fast_mimic  \\\n",
       "0            0  0.004612  1527.840050    100.0            True   \n",
       "1            1  0.063132  1593.571632    202.0            True   \n",
       "2            2  0.113412  1639.286636    304.0            True   \n",
       "3            3  0.161629  1658.306438    406.0            True   \n",
       "4            4  0.210849  1658.306438    507.0            True   \n",
       "..         ...       ...          ...      ...             ...   \n",
       "788        178  7.925187  2010.589404  89715.0            True   \n",
       "789        179  8.034267  2010.589404  90216.0            True   \n",
       "790        180  8.146511  2010.589404  90717.0            True   \n",
       "791        181  8.252866  2010.589404  91218.0            True   \n",
       "792        182  8.357248  2010.589404  91719.0            True   \n",
       "\n",
       "     Population Size  Keep Percent  max_iters  \n",
       "0                100           0.1      10000  \n",
       "1                100           0.1      10000  \n",
       "2                100           0.1      10000  \n",
       "3                100           0.1      10000  \n",
       "4                100           0.1      10000  \n",
       "..               ...           ...        ...  \n",
       "788              500           0.5      10000  \n",
       "789              500           0.5      10000  \n",
       "790              500           0.5      10000  \n",
       "791              500           0.5      10000  \n",
       "792              500           0.5      10000  \n",
       "\n",
       "[793 rows x 8 columns]"
      ]
     },
     "execution_count": 12,
     "metadata": {},
     "output_type": "execute_result"
    }
   ],
   "source": [
    "last_iters = mmc_run_stats[mmc_run_stats.Iteration != 0].reset_index()\n",
    "print(\"Max and mean\")\n",
    "print(last_iters.Fitness.max(), last_iters.Fitness.mean(), last_iters.Time.mean())\n",
    "print(last_iters.groupby(\"Keep Percent\").Fitness.mean())\n",
    "print(last_iters.groupby(\"Population Size\").Fitness.mean())\n",
    "print(last_iters.groupby(\"Population Size\").Time.mean())\n",
    "mmc_run_curves"
   ]
  },
  {
   "cell_type": "markdown",
   "id": "historical-hearts",
   "metadata": {},
   "source": [
    "#### Plot Fitness to Iterations Chart"
   ]
  },
  {
   "cell_type": "code",
   "execution_count": 13,
   "id": "elegant-hudson",
   "metadata": {},
   "outputs": [
    {
     "data": {
      "image/png": "[encoded data removed]",
      "text/plain": [
       "<Figure size 432x288 with 1 Axes>"
      ]
     },
     "metadata": {},
     "output_type": "display_data"
    }
   ],
   "source": [
    "# draw lineplot \n",
    "mmc_run_curves_kp1 = mmc_run_curves[mmc_run_curves['Keep Percent'] == 0.1] \n",
    "mmc_run_curves_kp2 = mmc_run_curves[mmc_run_curves['Keep Percent'] == 0.25] \n",
    "mmc_run_curves_kp3 = mmc_run_curves[mmc_run_curves['Keep Percent'] == 0.5] \n",
    "sns.lineplot(x=\"Iteration\", y=\"Fitness\", data=mmc_run_curves_kp1, label = \"kp = 0.1\") \n",
    "sns.lineplot(x=\"Iteration\", y=\"Fitness\", data=mmc_run_curves_kp2, label = \"kp = 0.25\") \n",
    "sns.lineplot(x=\"Iteration\", y=\"Fitness\", data=mmc_run_curves_kp3, label = \"kp = 0.5\") \n",
    "plt.title('Knapsack MIMIC Fitness Vs Iterations')\n",
    "plt.show()\n"
   ]
  },
  {
   "cell_type": "markdown",
   "id": "consecutive-rebecca",
   "metadata": {},
   "source": [
    "### Optimization #4 Randomized Hill Climbing\n"
   ]
  },
  {
   "cell_type": "markdown",
   "id": "usual-thomson",
   "metadata": {},
   "source": [
    "#### Run RHC on Knapsack problem"
   ]
  },
  {
   "cell_type": "code",
   "execution_count": 14,
   "id": "canadian-stand",
   "metadata": {},
   "outputs": [
    {
     "name": "stdout",
     "output_type": "stream",
     "text": [
      "CPU times: user 50.3 s, sys: 180 ms, total: 50.5 s\n",
      "Wall time: 50.7 s\n"
     ]
    }
   ],
   "source": [
    "%%time\n",
    "runner_return = mlrose_hiive.RHCRunner(problem, experiment_name=\"first_try\", \n",
    "                                       iteration_list=[10000],\n",
    "                                       seed=44, max_attempts=100, \n",
    "                                       restart_list=[100])\n",
    "rhc_run_stats, rhc_run_curves = runner_return.run()"
   ]
  },
  {
   "cell_type": "markdown",
   "id": "adaptive-depth",
   "metadata": {},
   "source": [
    "#### Output Fitnes Value Statists"
   ]
  },
  {
   "cell_type": "code",
   "execution_count": 15,
   "id": "sharing-insured",
   "metadata": {},
   "outputs": [
    {
     "name": "stdout",
     "output_type": "stream",
     "text": [
      "1010.1284783241814 1647.3004190099377\n",
      "50.65903577900002\n"
     ]
    }
   ],
   "source": [
    "last_iters = rhc_run_stats[rhc_run_stats.Iteration != 0].reset_index()\n",
    "print(last_iters.Fitness.mean(), last_iters.Fitness.max())\n",
    "print(last_iters.Time.max())"
   ]
  },
  {
   "cell_type": "markdown",
   "id": "working-checklist",
   "metadata": {},
   "source": [
    "#### Plot Fitness to Iterations Chart"
   ]
  },
  {
   "cell_type": "code",
   "execution_count": 16,
   "id": "piano-update",
   "metadata": {},
   "outputs": [
    {
     "data": {
      "image/png": "[encoded data removed]",
      "text/plain": [
       "<Figure size 432x288 with 1 Axes>"
      ]
     },
     "metadata": {},
     "output_type": "display_data"
    }
   ],
   "source": [
    "best_index_in_curve = rhc_run_curves.Fitness.idxmax()\n",
    "best_decay = rhc_run_curves.iloc[best_index_in_curve].current_restart\n",
    "best_RHC_curve = rhc_run_curves.loc[rhc_run_curves.current_restart == best_decay, :]\n",
    "best_RHC_curve.reset_index(inplace=True)\n",
    "best_RHC_curve\n",
    "# draw lineplot \n",
    "sns.lineplot(x=\"Iteration\", y=\"Fitness\", data=best_RHC_curve) \n",
    "plt.title('Knapsack RHC Fitness Vs Iterations')\n",
    "plt.show()"
   ]
  },
  {
   "cell_type": "markdown",
   "id": "prostate-dakota",
   "metadata": {},
   "source": [
    "### Combine Best Fitnesss Curves from Each Algorithm for Comparison"
   ]
  },
  {
   "cell_type": "code",
   "execution_count": 17,
   "id": "certain-blackjack",
   "metadata": {},
   "outputs": [
    {
     "data": {
      "image/png": "[encoded data removed]",
      "text/plain": [
       "<Figure size 432x288 with 1 Axes>"
      ]
     },
     "metadata": {},
     "output_type": "display_data"
    }
   ],
   "source": [
    "sns.lineplot(x=\"Iteration\", y=\"Fitness\", data=ga_run_curves_mu3, label = \"GA\") \n",
    "sns.lineplot(x=\"Iteration\", y=\"Fitness\", data=best_sa_curve, label = \"SA\") \n",
    "sns.lineplot(x=\"Iteration\", y=\"Fitness\", data=mmc_run_curves, label = \"MIMIC\") \n",
    "sns.lineplot(x=\"Iteration\", y=\"Fitness\", data=best_RHC_curve, label = \"RHC\") \n",
    "plt.show()"
   ]
  },
  {
   "cell_type": "code",
   "execution_count": null,
   "id": "agricultural-bible",
   "metadata": {},
   "outputs": [],
   "source": []
  }
 ],
 "metadata": {
  "kernelspec": {
   "display_name": "Python 3",
   "language": "python",
   "name": "python3"
  },
  "language_info": {
   "codemirror_mode": {
    "name": "ipython",
    "version": 3
   },
   "file_extension": ".py",
   "mimetype": "text/x-python",
   "name": "python",
   "nbconvert_exporter": "python",
   "pygments_lexer": "ipython3",
   "version": "3.7.6"
  }
 },
 "nbformat": 4,
 "nbformat_minor": 5
}
