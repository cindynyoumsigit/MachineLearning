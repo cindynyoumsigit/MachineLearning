{
 "cells": [
  {
   "cell_type": "markdown",
   "id": "immune-processing",
   "metadata": {},
   "source": [
    "# Random Search Algorithms"
   ]
  },
  {
   "cell_type": "markdown",
   "id": "gorgeous-tiger",
   "metadata": {},
   "source": [
    "### Importing Necessary Libraries\n"
   ]
  },
  {
   "cell_type": "code",
   "execution_count": 1,
   "id": "alien-brand",
   "metadata": {},
   "outputs": [],
   "source": [
    "import six\n",
    "import sys\n",
    "sys.modules['sklearn.externals.six'] = six\n",
    "import mlrose\n",
    "import numpy as np\n",
    "import pandas as pd\n",
    "import seaborn as sns\n",
    "import mlrose_hiive\n",
    "import matplotlib.pyplot as plt\n",
    "np.random.seed(44)\n",
    "sns.set_style(\"darkgrid\")"
   ]
  },
  {
   "cell_type": "markdown",
   "id": "olive-division",
   "metadata": {},
   "source": [
    "### Defining FlipFlop Problems Parameters"
   ]
  },
  {
   "cell_type": "code",
   "execution_count": 2,
   "id": "advance-cream",
   "metadata": {},
   "outputs": [
    {
     "name": "stdout",
     "output_type": "stream",
     "text": [
      "CPU times: user 1.79 ms, sys: 69 µs, total: 1.86 ms\n",
      "Wall time: 1.85 ms\n"
     ]
    }
   ],
   "source": [
    "%%time\n",
    "flip_len=500\n",
    "problem = mlrose_hiive.FlipFlopOpt(length=flip_len)"
   ]
  },
  {
   "cell_type": "markdown",
   "id": "catholic-hanging",
   "metadata": {},
   "source": [
    "### Optimization #1 MIMIC"
   ]
  },
  {
   "cell_type": "markdown",
   "id": "cellular-representation",
   "metadata": {},
   "source": [
    "#### Run MIMIC on FlipFlop problem"
   ]
  },
  {
   "cell_type": "code",
   "execution_count": 10,
   "id": "varied-agriculture",
   "metadata": {},
   "outputs": [
    {
     "name": "stdout",
     "output_type": "stream",
     "text": [
      "CPU times: user 18min 21s, sys: 5min 14s, total: 23min 35s\n",
      "Wall time: 23min 37s\n"
     ]
    }
   ],
   "source": [
    "%%time\n",
    "mmc = mlrose_hiive.MIMICRunner(problem=problem,\n",
    "                          experiment_name=\"MMC_Exp\",\n",
    "                          seed=44,\n",
    "                          iteration_list=[10000],\n",
    "                          max_attempts=100,\n",
    "                          population_sizes=[100,500],\n",
    "                          keep_percent_list=[0.1, 0.25, 0.5],\n",
    "                          use_fast_mimic=True)\n",
    "\n",
    "# the two data frames will contain the results\n",
    "mmc_run_stats, mmc_run_curves = mmc.run()"
   ]
  },
  {
   "cell_type": "markdown",
   "id": "homeless-apple",
   "metadata": {},
   "source": [
    "#### Output Fitnes Value Statists"
   ]
  },
  {
   "cell_type": "code",
   "execution_count": 11,
   "id": "durable-holly",
   "metadata": {},
   "outputs": [
    {
     "name": "stdout",
     "output_type": "stream",
     "text": [
      "Max and mean\n",
      "439.0 386.5 236.19012734600003\n",
      "Keep Percent\n",
      "0.10    359.0\n",
      "0.25    397.0\n",
      "0.50    403.5\n",
      "Name: Fitness, dtype: float64\n",
      "Population Size\n",
      "100    347.666667\n",
      "500    425.333333\n",
      "Name: Fitness, dtype: float64\n",
      "Population Size\n",
      "100     93.213635\n",
      "500    379.166619\n",
      "Name: Time, dtype: float64\n"
     ]
    },
    {
     "data": {
      "text/html": [
       "<div>\n",
       "<style scoped>\n",
       "    .dataframe tbody tr th:only-of-type {\n",
       "        vertical-align: middle;\n",
       "    }\n",
       "\n",
       "    .dataframe tbody tr th {\n",
       "        vertical-align: top;\n",
       "    }\n",
       "\n",
       "    .dataframe thead th {\n",
       "        text-align: right;\n",
       "    }\n",
       "</style>\n",
       "<table border=\"1\" class=\"dataframe\">\n",
       "  <thead>\n",
       "    <tr style=\"text-align: right;\">\n",
       "      <th></th>\n",
       "      <th>Iteration</th>\n",
       "      <th>Time</th>\n",
       "      <th>Fitness</th>\n",
       "      <th>FEvals</th>\n",
       "      <th>use_fast_mimic</th>\n",
       "      <th>Population Size</th>\n",
       "      <th>Keep Percent</th>\n",
       "      <th>max_iters</th>\n",
       "    </tr>\n",
       "  </thead>\n",
       "  <tbody>\n",
       "    <tr>\n",
       "      <th>0</th>\n",
       "      <td>0</td>\n",
       "      <td>0.004455</td>\n",
       "      <td>257.0</td>\n",
       "      <td>0.0</td>\n",
       "      <td>True</td>\n",
       "      <td>100</td>\n",
       "      <td>0.1</td>\n",
       "      <td>10000</td>\n",
       "    </tr>\n",
       "    <tr>\n",
       "      <th>1</th>\n",
       "      <td>1</td>\n",
       "      <td>0.276119</td>\n",
       "      <td>281.0</td>\n",
       "      <td>2.0</td>\n",
       "      <td>True</td>\n",
       "      <td>100</td>\n",
       "      <td>0.1</td>\n",
       "      <td>10000</td>\n",
       "    </tr>\n",
       "    <tr>\n",
       "      <th>2</th>\n",
       "      <td>2</td>\n",
       "      <td>0.512900</td>\n",
       "      <td>305.0</td>\n",
       "      <td>4.0</td>\n",
       "      <td>True</td>\n",
       "      <td>100</td>\n",
       "      <td>0.1</td>\n",
       "      <td>10000</td>\n",
       "    </tr>\n",
       "    <tr>\n",
       "      <th>3</th>\n",
       "      <td>3</td>\n",
       "      <td>0.761498</td>\n",
       "      <td>305.0</td>\n",
       "      <td>5.0</td>\n",
       "      <td>True</td>\n",
       "      <td>100</td>\n",
       "      <td>0.1</td>\n",
       "      <td>10000</td>\n",
       "    </tr>\n",
       "    <tr>\n",
       "      <th>4</th>\n",
       "      <td>4</td>\n",
       "      <td>1.012239</td>\n",
       "      <td>307.0</td>\n",
       "      <td>7.0</td>\n",
       "      <td>True</td>\n",
       "      <td>100</td>\n",
       "      <td>0.1</td>\n",
       "      <td>10000</td>\n",
       "    </tr>\n",
       "    <tr>\n",
       "      <th>...</th>\n",
       "      <td>...</td>\n",
       "      <td>...</td>\n",
       "      <td>...</td>\n",
       "      <td>...</td>\n",
       "      <td>...</td>\n",
       "      <td>...</td>\n",
       "      <td>...</td>\n",
       "      <td>...</td>\n",
       "    </tr>\n",
       "    <tr>\n",
       "      <th>844</th>\n",
       "      <td>162</td>\n",
       "      <td>31.646094</td>\n",
       "      <td>432.0</td>\n",
       "      <td>200.0</td>\n",
       "      <td>True</td>\n",
       "      <td>500</td>\n",
       "      <td>0.5</td>\n",
       "      <td>10000</td>\n",
       "    </tr>\n",
       "    <tr>\n",
       "      <th>845</th>\n",
       "      <td>163</td>\n",
       "      <td>32.333605</td>\n",
       "      <td>432.0</td>\n",
       "      <td>201.0</td>\n",
       "      <td>True</td>\n",
       "      <td>500</td>\n",
       "      <td>0.5</td>\n",
       "      <td>10000</td>\n",
       "    </tr>\n",
       "    <tr>\n",
       "      <th>846</th>\n",
       "      <td>164</td>\n",
       "      <td>33.032242</td>\n",
       "      <td>432.0</td>\n",
       "      <td>202.0</td>\n",
       "      <td>True</td>\n",
       "      <td>500</td>\n",
       "      <td>0.5</td>\n",
       "      <td>10000</td>\n",
       "    </tr>\n",
       "    <tr>\n",
       "      <th>847</th>\n",
       "      <td>165</td>\n",
       "      <td>33.734687</td>\n",
       "      <td>432.0</td>\n",
       "      <td>203.0</td>\n",
       "      <td>True</td>\n",
       "      <td>500</td>\n",
       "      <td>0.5</td>\n",
       "      <td>10000</td>\n",
       "    </tr>\n",
       "    <tr>\n",
       "      <th>848</th>\n",
       "      <td>166</td>\n",
       "      <td>34.442894</td>\n",
       "      <td>432.0</td>\n",
       "      <td>204.0</td>\n",
       "      <td>True</td>\n",
       "      <td>500</td>\n",
       "      <td>0.5</td>\n",
       "      <td>10000</td>\n",
       "    </tr>\n",
       "  </tbody>\n",
       "</table>\n",
       "<p>849 rows × 8 columns</p>\n",
       "</div>"
      ],
      "text/plain": [
       "     Iteration       Time  Fitness  FEvals  use_fast_mimic  Population Size  \\\n",
       "0            0   0.004455    257.0     0.0            True              100   \n",
       "1            1   0.276119    281.0     2.0            True              100   \n",
       "2            2   0.512900    305.0     4.0            True              100   \n",
       "3            3   0.761498    305.0     5.0            True              100   \n",
       "4            4   1.012239    307.0     7.0            True              100   \n",
       "..         ...        ...      ...     ...             ...              ...   \n",
       "844        162  31.646094    432.0   200.0            True              500   \n",
       "845        163  32.333605    432.0   201.0            True              500   \n",
       "846        164  33.032242    432.0   202.0            True              500   \n",
       "847        165  33.734687    432.0   203.0            True              500   \n",
       "848        166  34.442894    432.0   204.0            True              500   \n",
       "\n",
       "     Keep Percent  max_iters  \n",
       "0             0.1      10000  \n",
       "1             0.1      10000  \n",
       "2             0.1      10000  \n",
       "3             0.1      10000  \n",
       "4             0.1      10000  \n",
       "..            ...        ...  \n",
       "844           0.5      10000  \n",
       "845           0.5      10000  \n",
       "846           0.5      10000  \n",
       "847           0.5      10000  \n",
       "848           0.5      10000  \n",
       "\n",
       "[849 rows x 8 columns]"
      ]
     },
     "execution_count": 11,
     "metadata": {},
     "output_type": "execute_result"
    }
   ],
   "source": [
    "last_iters = mmc_run_stats[mmc_run_stats.Iteration != 0].reset_index()\n",
    "print(\"Max and mean\")\n",
    "print(last_iters.Fitness.max(), last_iters.Fitness.mean(), last_iters.Time.mean())\n",
    "print(last_iters.groupby(\"Keep Percent\").Fitness.mean())\n",
    "print(last_iters.groupby(\"Population Size\").Fitness.mean())\n",
    "print(last_iters.groupby(\"Population Size\").Time.mean())\n",
    "mmc_run_curves"
   ]
  },
  {
   "cell_type": "markdown",
   "id": "efficient-bermuda",
   "metadata": {},
   "source": [
    "#### Plot Fitness to Iterations Chart"
   ]
  },
  {
   "cell_type": "code",
   "execution_count": 12,
   "id": "floppy-garage",
   "metadata": {},
   "outputs": [
    {
     "data": {
      "image/png": "[encoded data removed]",
      "text/plain": [
       "<Figure size 432x288 with 1 Axes>"
      ]
     },
     "metadata": {},
     "output_type": "display_data"
    }
   ],
   "source": [
    "# draw lineplot \n",
    "mmc_run_curves_kp1 = mmc_run_curves[mmc_run_curves['Keep Percent'] == 0.1] \n",
    "mmc_run_curves_kp2 = mmc_run_curves[mmc_run_curves['Keep Percent'] == 0.25] \n",
    "mmc_run_curves_kp3 = mmc_run_curves[mmc_run_curves['Keep Percent'] == 0.5] \n",
    "sns.lineplot(x=\"Iteration\", y=\"Fitness\", data=mmc_run_curves_kp1, label = \"kp = 0.1\") \n",
    "sns.lineplot(x=\"Iteration\", y=\"Fitness\", data=mmc_run_curves_kp2, label = \"kp = 0.25\") \n",
    "sns.lineplot(x=\"Iteration\", y=\"Fitness\", data=mmc_run_curves_kp3, label = \"kp = 0.5\") \n",
    "plt.title('FlipFlop MIMIC Fitness Vs Iterations')\n",
    "plt.show()\n"
   ]
  },
  {
   "cell_type": "markdown",
   "id": "unauthorized-cycle",
   "metadata": {},
   "source": [
    "### Optimization #2 Simulated Annealing"
   ]
  },
  {
   "cell_type": "markdown",
   "id": "figured-pantyhose",
   "metadata": {},
   "source": [
    "#### Run SA on FlipFlop problem"
   ]
  },
  {
   "cell_type": "code",
   "execution_count": 7,
   "id": "wicked-collapse",
   "metadata": {},
   "outputs": [
    {
     "name": "stdout",
     "output_type": "stream",
     "text": [
      "CPU times: user 8min 37s, sys: 1.35 s, total: 8min 38s\n",
      "Wall time: 8min 39s\n"
     ]
    }
   ],
   "source": [
    "%%time\n",
    "sa = mlrose_hiive.SARunner(problem, experiment_name=\"SA_Exp\", \n",
    "                           iteration_list=[10000],\n",
    "                           temperature_list=[10, 50, 100, 250, 500],\n",
    "                           decay_list=[mlrose_hiive.ExpDecay,\n",
    "                                       mlrose_hiive.GeomDecay],\n",
    "                           seed=44, max_attempts=100)\n",
    "\n",
    "sa_run_stats, sa_run_curves = sa.run()"
   ]
  },
  {
   "cell_type": "markdown",
   "id": "protecting-leeds",
   "metadata": {},
   "source": [
    "#### Output Fitnes Value Statists"
   ]
  },
  {
   "cell_type": "code",
   "execution_count": 8,
   "id": "monthly-internet",
   "metadata": {},
   "outputs": [
    {
     "name": "stdout",
     "output_type": "stream",
     "text": [
      "Mean: 474.0 \n",
      "Min: 483.0 \n",
      "Max: 483.0\n",
      "Mean Time; 51.890187047899985\n"
     ]
    }
   ],
   "source": [
    "last_iters = sa_run_stats[sa_run_stats.Iteration != 0].reset_index()\n",
    "print('Mean:', last_iters.Fitness.mean(), '\\nMin:',last_iters.Fitness.max(),'\\nMax:',last_iters.Fitness.max())\n",
    "print('Mean Time;',last_iters.Time.mean())"
   ]
  },
  {
   "cell_type": "markdown",
   "id": "committed-wrapping",
   "metadata": {},
   "source": [
    "#### Plot Fitness to Iterations Chart"
   ]
  },
  {
   "cell_type": "code",
   "execution_count": 9,
   "id": "lucky-lottery",
   "metadata": {},
   "outputs": [
    {
     "data": {
      "image/png": "[encoded data removed]",
      "text/plain": [
       "<Figure size 432x288 with 1 Axes>"
      ]
     },
     "metadata": {},
     "output_type": "display_data"
    },
    {
     "data": {
      "text/html": [
       "<div>\n",
       "<style scoped>\n",
       "    .dataframe tbody tr th:only-of-type {\n",
       "        vertical-align: middle;\n",
       "    }\n",
       "\n",
       "    .dataframe tbody tr th {\n",
       "        vertical-align: top;\n",
       "    }\n",
       "\n",
       "    .dataframe thead th {\n",
       "        text-align: right;\n",
       "    }\n",
       "</style>\n",
       "<table border=\"1\" class=\"dataframe\">\n",
       "  <thead>\n",
       "    <tr style=\"text-align: right;\">\n",
       "      <th></th>\n",
       "      <th>Iteration</th>\n",
       "      <th>Time</th>\n",
       "      <th>Fitness</th>\n",
       "      <th>FEvals</th>\n",
       "      <th>Temperature</th>\n",
       "      <th>max_iters</th>\n",
       "    </tr>\n",
       "  </thead>\n",
       "  <tbody>\n",
       "    <tr>\n",
       "      <th>0</th>\n",
       "      <td>0</td>\n",
       "      <td>0.002288</td>\n",
       "      <td>257.0</td>\n",
       "      <td>0.0</td>\n",
       "      <td>10.0</td>\n",
       "      <td>10000</td>\n",
       "    </tr>\n",
       "    <tr>\n",
       "      <th>1</th>\n",
       "      <td>1</td>\n",
       "      <td>0.008063</td>\n",
       "      <td>257.0</td>\n",
       "      <td>2.0</td>\n",
       "      <td>10.0</td>\n",
       "      <td>10000</td>\n",
       "    </tr>\n",
       "    <tr>\n",
       "      <th>2</th>\n",
       "      <td>2</td>\n",
       "      <td>0.010925</td>\n",
       "      <td>257.0</td>\n",
       "      <td>4.0</td>\n",
       "      <td>10.0</td>\n",
       "      <td>10000</td>\n",
       "    </tr>\n",
       "    <tr>\n",
       "      <th>3</th>\n",
       "      <td>3</td>\n",
       "      <td>0.013717</td>\n",
       "      <td>257.0</td>\n",
       "      <td>6.0</td>\n",
       "      <td>10.0</td>\n",
       "      <td>10000</td>\n",
       "    </tr>\n",
       "    <tr>\n",
       "      <th>4</th>\n",
       "      <td>4</td>\n",
       "      <td>0.015906</td>\n",
       "      <td>257.0</td>\n",
       "      <td>8.0</td>\n",
       "      <td>10.0</td>\n",
       "      <td>10000</td>\n",
       "    </tr>\n",
       "    <tr>\n",
       "      <th>...</th>\n",
       "      <td>...</td>\n",
       "      <td>...</td>\n",
       "      <td>...</td>\n",
       "      <td>...</td>\n",
       "      <td>...</td>\n",
       "      <td>...</td>\n",
       "    </tr>\n",
       "    <tr>\n",
       "      <th>100005</th>\n",
       "      <td>9996</td>\n",
       "      <td>50.540533</td>\n",
       "      <td>470.0</td>\n",
       "      <td>12514.0</td>\n",
       "      <td>500.0</td>\n",
       "      <td>10000</td>\n",
       "    </tr>\n",
       "    <tr>\n",
       "      <th>100006</th>\n",
       "      <td>9997</td>\n",
       "      <td>50.548736</td>\n",
       "      <td>470.0</td>\n",
       "      <td>12515.0</td>\n",
       "      <td>500.0</td>\n",
       "      <td>10000</td>\n",
       "    </tr>\n",
       "    <tr>\n",
       "      <th>100007</th>\n",
       "      <td>9998</td>\n",
       "      <td>50.557901</td>\n",
       "      <td>470.0</td>\n",
       "      <td>12516.0</td>\n",
       "      <td>500.0</td>\n",
       "      <td>10000</td>\n",
       "    </tr>\n",
       "    <tr>\n",
       "      <th>100008</th>\n",
       "      <td>9999</td>\n",
       "      <td>50.567092</td>\n",
       "      <td>470.0</td>\n",
       "      <td>12517.0</td>\n",
       "      <td>500.0</td>\n",
       "      <td>10000</td>\n",
       "    </tr>\n",
       "    <tr>\n",
       "      <th>100009</th>\n",
       "      <td>10000</td>\n",
       "      <td>50.575203</td>\n",
       "      <td>470.0</td>\n",
       "      <td>12518.0</td>\n",
       "      <td>500.0</td>\n",
       "      <td>10000</td>\n",
       "    </tr>\n",
       "  </tbody>\n",
       "</table>\n",
       "<p>100010 rows × 6 columns</p>\n",
       "</div>"
      ],
      "text/plain": [
       "        Iteration       Time  Fitness   FEvals  Temperature  max_iters\n",
       "0               0   0.002288    257.0      0.0         10.0      10000\n",
       "1               1   0.008063    257.0      2.0         10.0      10000\n",
       "2               2   0.010925    257.0      4.0         10.0      10000\n",
       "3               3   0.013717    257.0      6.0         10.0      10000\n",
       "4               4   0.015906    257.0      8.0         10.0      10000\n",
       "...           ...        ...      ...      ...          ...        ...\n",
       "100005       9996  50.540533    470.0  12514.0        500.0      10000\n",
       "100006       9997  50.548736    470.0  12515.0        500.0      10000\n",
       "100007       9998  50.557901    470.0  12516.0        500.0      10000\n",
       "100008       9999  50.567092    470.0  12517.0        500.0      10000\n",
       "100009      10000  50.575203    470.0  12518.0        500.0      10000\n",
       "\n",
       "[100010 rows x 6 columns]"
      ]
     },
     "execution_count": 9,
     "metadata": {},
     "output_type": "execute_result"
    }
   ],
   "source": [
    "best_index_in_curve = sa_run_curves.Fitness.idxmax()\n",
    "best_decay = sa_run_curves.iloc[best_index_in_curve].Temperature\n",
    "best_sa_curve = sa_run_curves.loc[sa_run_curves.Temperature == best_decay, :]\n",
    "best_sa_curve.reset_index(inplace=True)\n",
    "\n",
    "\n",
    "# draw lineplot \n",
    "sa_run_curves['Temperature'] = sa_run_curves['Temperature'].astype(str).astype(float)\n",
    "sa_run_curves_t1 = sa_run_curves[sa_run_curves['Temperature'] == 10] \n",
    "sa_run_curves_t2 = sa_run_curves[sa_run_curves['Temperature'] == 50] \n",
    "sa_run_curves_t3 = sa_run_curves[sa_run_curves['Temperature'] == 100]\n",
    "sa_run_curves_t4 = sa_run_curves[sa_run_curves['Temperature'] == 250] \n",
    "sa_run_curves_t5 = sa_run_curves[sa_run_curves['Temperature'] == 500] \n",
    "sns.lineplot(x=\"Iteration\", y=\"Fitness\", data=sa_run_curves_t1, label = \"t = 10\")\n",
    "sns.lineplot(x=\"Iteration\", y=\"Fitness\", data=sa_run_curves_t2, label = \"t = 50\") \n",
    "sns.lineplot(x=\"Iteration\", y=\"Fitness\", data=sa_run_curves_t3, label = \"t = 100\") \n",
    "sns.lineplot(x=\"Iteration\", y=\"Fitness\", data=sa_run_curves_t4, label = \"t = 250\") \n",
    "sns.lineplot(x=\"Iteration\", y=\"Fitness\", data=sa_run_curves_t5, label = \"t = 500\") \n",
    " \n",
    "plt.title('FlipFlop SA Fitness Vs Iterations')\n",
    "plt.show()\n",
    "\n",
    "# # draw lineplot \n",
    "# sns.lineplot(x=\"Iteration\", y=\"Fitness\", data=best_sa_curve) \n",
    "# plt.title('FlipFlop SA Fitness Vs Iterations')\n",
    "# plt.show()\n",
    "sa_run_curves"
   ]
  },
  {
   "cell_type": "markdown",
   "id": "noticed-transparency",
   "metadata": {},
   "source": [
    "### Optimization #3 Genetic Algorithm"
   ]
  },
  {
   "cell_type": "markdown",
   "id": "gentle-solomon",
   "metadata": {},
   "source": [
    "#### Run GA on FlipFlop problem"
   ]
  },
  {
   "cell_type": "code",
   "execution_count": 3,
   "id": "abandoned-chance",
   "metadata": {},
   "outputs": [
    {
     "name": "stdout",
     "output_type": "stream",
     "text": [
      "CPU times: user 1min 2s, sys: 147 ms, total: 1min 2s\n",
      "Wall time: 1min 2s\n"
     ]
    }
   ],
   "source": [
    "%%time\n",
    "ga = mlrose_hiive.GARunner(problem=problem,\n",
    "                          experiment_name=\"GA_Exp\",\n",
    "                          seed=44,\n",
    "                          iteration_list = [10000],\n",
    "                          max_attempts = 100,\n",
    "                          population_sizes = [100, 500],\n",
    "                          mutation_rates = [0.1, 0.25, 0.5])\n",
    "\n",
    "ga_run_stats, ga_run_curves = ga.run()"
   ]
  },
  {
   "cell_type": "markdown",
   "id": "conditional-healthcare",
   "metadata": {},
   "source": [
    "#### Output Fitnes Value Statists"
   ]
  },
  {
   "cell_type": "code",
   "execution_count": 5,
   "id": "annual-cheese",
   "metadata": {},
   "outputs": [
    {
     "name": "stdout",
     "output_type": "stream",
     "text": [
      "Max and mean\n",
      "454.0 434.3333333333333 10.470489879\n",
      "Mutation Rate\n",
      "0.10    435.0\n",
      "0.25    427.0\n",
      "0.50    441.0\n",
      "Name: Fitness, dtype: float64\n",
      "Population Size\n",
      "100    422.000000\n",
      "500    446.666667\n",
      "Name: Fitness, dtype: float64\n",
      "Population Size\n",
      "100     5.164936\n",
      "500    15.776043\n",
      "Name: Time, dtype: float64\n"
     ]
    }
   ],
   "source": [
    "last_iters = ga_run_stats[ga_run_stats.Iteration != 0].reset_index()\n",
    "print(\"Max and mean\")\n",
    "print(last_iters.Fitness.max(), last_iters.Fitness.mean(), last_iters.Time.mean())\n",
    "print(last_iters.groupby(\"Mutation Rate\").Fitness.mean())\n",
    "print(last_iters.groupby(\"Population Size\").Fitness.mean())\n",
    "print(last_iters.groupby(\"Population Size\").Time.mean())"
   ]
  },
  {
   "cell_type": "markdown",
   "id": "satisfied-elizabeth",
   "metadata": {},
   "source": [
    "#### Plot Fitness to Iterations Chart"
   ]
  },
  {
   "cell_type": "code",
   "execution_count": 6,
   "id": "prompt-spotlight",
   "metadata": {},
   "outputs": [
    {
     "data": {
      "image/png": "[encoded data removed]",
      "text/plain": [
       "<Figure size 432x288 with 1 Axes>"
      ]
     },
     "metadata": {},
     "output_type": "display_data"
    }
   ],
   "source": [
    "# draw lineplot \n",
    "ga_run_curves_mu1 = ga_run_curves[ga_run_curves['Mutation Rate'] == 0.1] \n",
    "ga_run_curves_mu2 = ga_run_curves[ga_run_curves['Mutation Rate'] == 0.25] \n",
    "ga_run_curves_mu3 = ga_run_curves[ga_run_curves['Mutation Rate'] == 0.5] \n",
    "sns.lineplot(x=\"Iteration\", y=\"Fitness\", data=ga_run_curves_mu1, label = \"mr = 0.1\") \n",
    "sns.lineplot(x=\"Iteration\", y=\"Fitness\", data=ga_run_curves_mu2, label = \"mr = 0.25\") \n",
    "sns.lineplot(x=\"Iteration\", y=\"Fitness\", data=ga_run_curves_mu3, label = \"mr = 0.5\") \n",
    "plt.title('FlipFlop GA Fitness Vs Iterations')\n",
    "plt.show()"
   ]
  },
  {
   "cell_type": "markdown",
   "id": "consecutive-rebecca",
   "metadata": {},
   "source": [
    "### Optimization #4 Randomized Hill Climbing\n"
   ]
  },
  {
   "cell_type": "markdown",
   "id": "numerical-recovery",
   "metadata": {},
   "source": [
    "#### Run RHC on FlipFlop problem"
   ]
  },
  {
   "cell_type": "code",
   "execution_count": 13,
   "id": "canadian-stand",
   "metadata": {},
   "outputs": [
    {
     "name": "stdout",
     "output_type": "stream",
     "text": [
      "CPU times: user 1h 36min 23s, sys: 6.72 s, total: 1h 36min 30s\n",
      "Wall time: 2h 52min 32s\n"
     ]
    }
   ],
   "source": [
    "%%time\n",
    "runner_return = mlrose_hiive.RHCRunner(problem, experiment_name=\"first_try\", \n",
    "                                       iteration_list=[10000],\n",
    "                                       seed=44, max_attempts=100, \n",
    "                                       restart_list=[100])\n",
    "rhc_run_stats, rhc_run_curves = runner_return.run()"
   ]
  },
  {
   "cell_type": "markdown",
   "id": "persistent-stereo",
   "metadata": {},
   "source": [
    "#### Output Fitnes Value Statists"
   ]
  },
  {
   "cell_type": "code",
   "execution_count": 14,
   "id": "sharing-insured",
   "metadata": {},
   "outputs": [
    {
     "name": "stdout",
     "output_type": "stream",
     "text": [
      "392.0 414.0\n",
      "5817.890918854\n"
     ]
    }
   ],
   "source": [
    "last_iters = rhc_run_stats[rhc_run_stats.Iteration != 0].reset_index()\n",
    "print(last_iters.Fitness.mean(), last_iters.Fitness.max())\n",
    "print(last_iters.Time.max())"
   ]
  },
  {
   "cell_type": "markdown",
   "id": "sought-tracker",
   "metadata": {},
   "source": [
    "#### Plot Fitness to Iterations Chart"
   ]
  },
  {
   "cell_type": "code",
   "execution_count": 15,
   "id": "piano-update",
   "metadata": {},
   "outputs": [
    {
     "data": {
      "image/png": "[encoded data removed]",
      "text/plain": [
       "<Figure size 432x288 with 1 Axes>"
      ]
     },
     "metadata": {},
     "output_type": "display_data"
    }
   ],
   "source": [
    "best_index_in_curve = rhc_run_curves.Fitness.idxmax()\n",
    "best_decay = rhc_run_curves.iloc[best_index_in_curve].current_restart\n",
    "best_RHC_curve = rhc_run_curves.loc[rhc_run_curves.current_restart == best_decay, :]\n",
    "best_RHC_curve.reset_index(inplace=True)\n",
    "best_RHC_curve\n",
    "# draw lineplot \n",
    "sns.lineplot(x=\"Iteration\", y=\"Fitness\", data=best_RHC_curve) \n",
    "plt.title('FlipFlop RHC Fitness Vs Iterations')\n",
    "plt.show()"
   ]
  },
  {
   "cell_type": "markdown",
   "id": "vital-diagnosis",
   "metadata": {},
   "source": [
    "### Combine Best Fitnesss Curves from Each Algorithm for Comparison"
   ]
  },
  {
   "cell_type": "code",
   "execution_count": 16,
   "id": "embedded-adobe",
   "metadata": {},
   "outputs": [
    {
     "data": {
      "image/png": "[encoded data removed]",
      "text/plain": [
       "<Figure size 432x288 with 1 Axes>"
      ]
     },
     "metadata": {},
     "output_type": "display_data"
    }
   ],
   "source": [
    "sns.lineplot(x=\"Iteration\", y=\"Fitness\", data=ga_run_curves_mu3, label = \"GA\") \n",
    "sns.lineplot(x=\"Iteration\", y=\"Fitness\", data=best_sa_curve, label = \"SA\") \n",
    "sns.lineplot(x=\"Iteration\", y=\"Fitness\", data=mmc_run_curves, label = \"MIMIC\") \n",
    "sns.lineplot(x=\"Iteration\", y=\"Fitness\", data=best_RHC_curve, label = \"RHC\") \n",
    "plt.show()"
   ]
  },
  {
   "cell_type": "code",
   "execution_count": null,
   "id": "wooden-estate",
   "metadata": {},
   "outputs": [],
   "source": []
  }
 ],
 "metadata": {
  "kernelspec": {
   "display_name": "Python 3",
   "language": "python",
   "name": "python3"
  },
  "language_info": {
   "codemirror_mode": {
    "name": "ipython",
    "version": 3
   },
   "file_extension": ".py",
   "mimetype": "text/x-python",
   "name": "python",
   "nbconvert_exporter": "python",
   "pygments_lexer": "ipython3",
   "version": "3.7.6"
  }
 },
 "nbformat": 4,
 "nbformat_minor": 5
}
