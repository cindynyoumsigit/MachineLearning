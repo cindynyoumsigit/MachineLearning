{
 "cells": [
  {
   "cell_type": "markdown",
   "id": "immune-processing",
   "metadata": {},
   "source": [
    "# Supervised Classification Learning Algorithms\n",
    "## Neural Networks"
   ]
  },
  {
   "cell_type": "markdown",
   "id": "gorgeous-tiger",
   "metadata": {},
   "source": [
    "### Importing Necessary Libraries\n"
   ]
  },
  {
   "cell_type": "code",
   "execution_count": null,
   "id": "alien-brand",
   "metadata": {
    "scrolled": true
   },
   "outputs": [],
   "source": [
    "%matplotlib inline\n",
    "import six\n",
    "import sys\n",
    "sys.modules['sklearn.externals.six'] = six\n",
    "import mlrose\n",
    "import sklearn\n",
    "import warnings\n",
    "import matplotlib\n",
    "import numpy as np\n",
    "import mlrose_hiive\n",
    "import pandas as pd\n",
    "from functools import partial\n",
    "from sklearn.base import clone\n",
    "from sklearn import set_config\n",
    "import matplotlib.pyplot as plt\n",
    "from sklearn import preprocessing\n",
    "from mlrose_hiive import ExpDecay\n",
    "from statistics import mean, stdev\n",
    "from IPython.display import display\n",
    "from sklearn.metrics import f1_score\n",
    "from sklearn.preprocessing import OneHotEncoder\n",
    "from sklearn.neural_network import MLPClassifier\n",
    "from sklearn.exceptions import ConvergenceWarning\n",
    "from sklearn.model_selection import train_test_split, GridSearchCV, cross_val_score, StratifiedKFold, StratifiedShuffleSplit, validation_curve, learning_curve\n",
    "from sklearn.metrics import roc_curve, precision_score, accuracy_score, average_precision_score, recall_score, f1_score, classification_report, confusion_matrix\n",
    "np.random.seed(44)"
   ]
  },
  {
   "cell_type": "markdown",
   "id": "olive-division",
   "metadata": {},
   "source": [
    "### Setting Graph Format Defaults"
   ]
  },
  {
   "cell_type": "code",
   "execution_count": null,
   "id": "advance-cream",
   "metadata": {},
   "outputs": [],
   "source": [
    "# Specify printing and plot dimensions \n",
    "pd.options.display.max_columns = None\n",
    "matplotlib.rc('figure', figsize=[10,5])\n",
    "\n",
    "# Initializing Random Seed to make experiments reproducible\n",
    "np.random.seed(1126)\n",
    "\n",
    "# setting config to print all parameters\n",
    "set_config(print_changed_only=False)"
   ]
  },
  {
   "cell_type": "markdown",
   "id": "surprised-induction",
   "metadata": {},
   "source": [
    "### Uploading and Pre-process Data"
   ]
  },
  {
   "cell_type": "code",
   "execution_count": null,
   "id": "unknown-ebony",
   "metadata": {},
   "outputs": [],
   "source": [
    "# Upload credit Dataset\n",
    "creditdata = pd.read_csv('creditdata.csv')\n",
    "creditdata = creditdata.iloc[: , 1:]\n",
    "newheader = list(creditdata.loc[0])\n",
    "creditdata = creditdata.drop(labels=0, axis=0)\n",
    "creditdata.columns = newheader\n",
    "creditdata.reset_index(inplace=True)\n",
    "creditdata = creditdata.astype('float64')\n",
    "creditdata.head()"
   ]
  },
  {
   "cell_type": "markdown",
   "id": "noticed-transparency",
   "metadata": {},
   "source": [
    "### Data Preprocessing (Normalizing and Assigning Features and Target variables)"
   ]
  },
  {
   "cell_type": "code",
   "execution_count": null,
   "id": "accompanied-district",
   "metadata": {},
   "outputs": [],
   "source": [
    "#split Credit dataset in features and target variable\n",
    "credit_feature_cols = ['LIMIT_BAL','SEX','EDUCATION','MARRIAGE','AGE','PAY_0','PAY_2','PAY_3','PAY_4','PAY_5','PAY_6','BILL_AMT1','BILL_AMT2','BILL_AMT3','BILL_AMT4','BILL_AMT5','BILL_AMT6','PAY_AMT1','PAY_AMT2','PAY_AMT3','PAY_AMT4','PAY_AMT5','PAY_AMT6']\n",
    "creditX = creditdata.reindex(columns =credit_feature_cols) # Features\n",
    "# print('creditX head')\n",
    "# print(creditX.head())\n",
    "# print(creditX.info())\n",
    "# print()\n",
    "creditY = creditdata.reindex(columns =['default payment next month']) # Target variable\n",
    "# print( 'CreditY Value Counts before replacement')\n",
    "# print(creditY.value_counts())\n",
    "# print()\n",
    "# All the credit non-defaulters = 1, all the credit defaulters= -1\n",
    "creditY = creditY.replace(['0','1'], [1,-1],regex=True)\n",
    "creditY = creditY.astype('int64')\n",
    "# print( 'CreditY Value Counts after replacement')\n",
    "# print(creditY.value_counts())\n",
    "# print()\n",
    "creditX.info(), creditY.info()"
   ]
  },
  {
   "cell_type": "markdown",
   "id": "consecutive-rebecca",
   "metadata": {},
   "source": [
    "### Splitting the Datasets"
   ]
  },
  {
   "cell_type": "code",
   "execution_count": null,
   "id": "intermediate-oxide",
   "metadata": {},
   "outputs": [],
   "source": [
    "# Splitting Credit Dataset\n",
    "sss = StratifiedShuffleSplit(n_splits=1, test_size=0.2, random_state=10)\n",
    "sss.get_n_splits(creditX, creditY)\n",
    "for train_index, test_index in sss.split(creditX, creditY):\n",
    "    creditx_train, creditx_test = creditX.loc[train_index], creditX.loc[test_index]\n",
    "    credity_train, credity_test = creditY.loc[train_index], creditY.loc[test_index]"
   ]
  },
  {
   "cell_type": "markdown",
   "id": "strategic-crest",
   "metadata": {},
   "source": [
    "### Neural Network using Random Hill Climbing Optimization "
   ]
  },
  {
   "cell_type": "code",
   "execution_count": null,
   "id": "constant-poultry",
   "metadata": {},
   "outputs": [],
   "source": [
    "%%time\n",
    "# Running Random Hill Climb on Credit Dataset\n",
    "rhcnn_model1 = mlrose.NeuralNetwork(hidden_nodes = [2], activation = 'relu',\n",
    "                                 algorithm = 'random_hill_climb', \n",
    "                                 max_iters = 1000,\n",
    "                                 bias = True, \n",
    "                                 is_classifier = True, \n",
    "                                 learning_rate = 0.001,\n",
    "                                 early_stopping = True,\n",
    "                                 clip_max = 5,\n",
    "                                 max_attempts = 100,\n",
    "                                 random_state = 3)\n",
    "\n",
    "rhcnn_model1.fit(creditx_train, credity_train)"
   ]
  },
  {
   "cell_type": "markdown",
   "id": "joined-desktop",
   "metadata": {},
   "source": [
    "### Neural Network with Random Hill Climb Train Predictions"
   ]
  },
  {
   "cell_type": "code",
   "execution_count": null,
   "id": "southwest-benjamin",
   "metadata": {},
   "outputs": [],
   "source": [
    "credity_rhcnn_train_predictions = rhcnn_model1.predict(creditx_train)\n",
    "print(classification_report(credity_train, credity_rhcnn_train_predictions, digits=5))\n",
    "print(confusion_matrix(credity_train, credity_rhcnn_train_predictions))"
   ]
  },
  {
   "cell_type": "markdown",
   "id": "quiet-jason",
   "metadata": {},
   "source": [
    "### Neural Network with Random Hill Climb Test Predictions"
   ]
  },
  {
   "cell_type": "code",
   "execution_count": null,
   "id": "dynamic-prescription",
   "metadata": {
    "scrolled": true
   },
   "outputs": [],
   "source": [
    "credity_rhcnn_test_predictions = rhcnn_model1.predict(creditx_test)\n",
    "print(classification_report(credity_test, credity_rhcnn_test_predictions, digits=5))\n",
    "print(confusion_matrix(credity_test, credity_rhcnn_test_predictions))"
   ]
  },
  {
   "cell_type": "markdown",
   "id": "announced-asbestos",
   "metadata": {},
   "source": [
    "### Neural Network using Simulated Anealing Optimization "
   ]
  },
  {
   "cell_type": "code",
   "execution_count": null,
   "id": "passive-roots",
   "metadata": {},
   "outputs": [],
   "source": [
    "%%time\n",
    "sann_model1 = mlrose.NeuralNetwork(hidden_nodes = [2], activation = 'relu',\n",
    "                                 algorithm = 'simulated_annealing', \n",
    "                                 max_iters = 1000,\n",
    "                                 bias = True, \n",
    "                                 is_classifier = True, \n",
    "                                 learning_rate = 0.001,\n",
    "                                 early_stopping = True,\n",
    "                                 clip_max = 3,\n",
    "                                 max_attempts = 100,\n",
    "                                 random_state = 3)\n",
    "\n",
    "\n",
    "sann_model1.fit(creditx_train, credity_train)"
   ]
  },
  {
   "cell_type": "markdown",
   "id": "stone-redhead",
   "metadata": {},
   "source": [
    "### Neural Network with Simulated Anealing Train Predictions"
   ]
  },
  {
   "cell_type": "code",
   "execution_count": null,
   "id": "rocky-lawsuit",
   "metadata": {},
   "outputs": [],
   "source": [
    "credity_sann_train_predictions = sann_model1.predict(creditx_train)\n",
    "print(classification_report(credity_train, credity_sann_train_predictions, digits=5))\n",
    "print(confusion_matrix(credity_train, credity_sann_train_predictions))"
   ]
  },
  {
   "cell_type": "markdown",
   "id": "civilian-course",
   "metadata": {},
   "source": [
    "### Neural Network with Simulated Anealing Test Predictions"
   ]
  },
  {
   "cell_type": "code",
   "execution_count": null,
   "id": "super-jenny",
   "metadata": {
    "scrolled": true
   },
   "outputs": [],
   "source": [
    "credity_sann_test_predictions = sann_model1.predict(creditx_test)\n",
    "print(classification_report(credity_test, credity_sann_test_predictions, digits=5))\n",
    "print(confusion_matrix(credity_test, credity_sann_test_predictions))"
   ]
  },
  {
   "cell_type": "markdown",
   "id": "short-poverty",
   "metadata": {},
   "source": [
    "### Neural Network using Genetic Algorithm Optimization "
   ]
  },
  {
   "cell_type": "code",
   "execution_count": null,
   "id": "powerful-century",
   "metadata": {},
   "outputs": [],
   "source": [
    "%%time\n",
    "gann_model1 = mlrose.NeuralNetwork(hidden_nodes = [10], activation = 'relu',\n",
    "                                 algorithm = 'genetic_alg', \n",
    "                                 max_iters = 1000,\n",
    "                                 bias = True, \n",
    "                                 is_classifier = True, \n",
    "                                 learning_rate = 0.001,\n",
    "                                 early_stopping = True,\n",
    "                                 clip_max = 3,\n",
    "                                 max_attempts = 100,\n",
    "                                 random_state = 3,\n",
    "                                 pop_size=200,\n",
    "                                 mutation_prob=0.25)\n",
    "gann_model1.fit(creditx_train, credity_train)"
   ]
  },
  {
   "cell_type": "markdown",
   "id": "opposed-alert",
   "metadata": {},
   "source": [
    "### Neural Network with Genetic Algorithm Train Predictions"
   ]
  },
  {
   "cell_type": "code",
   "execution_count": null,
   "id": "stopped-virus",
   "metadata": {},
   "outputs": [],
   "source": [
    "credity_gann_train_predictions = gann_model1.predict(creditx_train)\n",
    "print(classification_report(credity_train, credity_gann_train_predictions, digits=5))\n",
    "print(confusion_matrix(credity_train, credity_gann_train_predictions))"
   ]
  },
  {
   "cell_type": "markdown",
   "id": "signal-entertainment",
   "metadata": {},
   "source": [
    "### Neural Network with Genetic Algorithm  Test Predictions"
   ]
  },
  {
   "cell_type": "code",
   "execution_count": null,
   "id": "unnecessary-council",
   "metadata": {
    "scrolled": true
   },
   "outputs": [],
   "source": [
    "credity_gann_test_predictions = gann_model1.predict(creditx_test)\n",
    "print(classification_report(credity_test, credity_gann_test_predictions, digits=5))\n",
    "print(confusion_matrix(credity_test, credity_gann_test_predictions))"
   ]
  },
  {
   "cell_type": "code",
   "execution_count": null,
   "id": "amended-somerset",
   "metadata": {},
   "outputs": [],
   "source": []
  }
 ],
 "metadata": {
  "kernelspec": {
   "display_name": "Python 3",
   "language": "python",
   "name": "python3"
  },
  "language_info": {
   "codemirror_mode": {
    "name": "ipython",
    "version": 3
   },
   "file_extension": ".py",
   "mimetype": "text/x-python",
   "name": "python",
   "nbconvert_exporter": "python",
   "pygments_lexer": "ipython3",
   "version": "3.7.6"
  }
 },
 "nbformat": 4,
 "nbformat_minor": 5
}
