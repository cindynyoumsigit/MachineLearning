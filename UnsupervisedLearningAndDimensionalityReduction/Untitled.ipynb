{
 "cells": [
  {
   "cell_type": "code",
   "execution_count": 23,
   "id": "alpine-bridal",
   "metadata": {},
   "outputs": [
    {
     "name": "stdout",
     "output_type": "stream",
     "text": [
      "arr: [1, 3, 3, 5, 5, 7]\n",
      "\n",
      "0 1 3\n",
      "arr_sum =  2\n",
      "\n",
      "1 3 3\n",
      "arr_sum =  2\n",
      "\n",
      "2 3 5\n",
      "arr_sum =  4\n",
      "\n",
      "3 5 5\n",
      "arr_sum =  4\n",
      "\n",
      "4 5 7\n",
      "arr_sum =  6\n",
      "\n"
     ]
    }
   ],
   "source": [
    "arr = [5,5,1,3,7,3]\n",
    "arr.sort()\n",
    "print('arr:',arr)\n",
    "print()\n",
    "arr_sum = 0\n",
    "for i in range(len(arr)):\n",
    "    if i != (len(arr)- 1):\n",
    "        print(i, arr[i],arr[i+1])\n",
    "        arr_sum += abs(arr[i]-arr[i+1])\n",
    "        print('arr_sum = ', arr_sum)\n",
    "        print()\n",
    "    else:\n",
    "        break\n",
    "        "
   ]
  },
  {
   "cell_type": "code",
   "execution_count": null,
   "id": "congressional-oakland",
   "metadata": {},
   "outputs": [],
   "source": []
  },
  {
   "cell_type": "code",
   "execution_count": null,
   "id": "standard-investigation",
   "metadata": {},
   "outputs": [],
   "source": []
  }
 ],
 "metadata": {
  "kernelspec": {
   "display_name": "Python 3",
   "language": "python",
   "name": "python3"
  },
  "language_info": {
   "codemirror_mode": {
    "name": "ipython",
    "version": 3
   },
   "file_extension": ".py",
   "mimetype": "text/x-python",
   "name": "python",
   "nbconvert_exporter": "python",
   "pygments_lexer": "ipython3",
   "version": "3.7.6"
  }
 },
 "nbformat": 4,
 "nbformat_minor": 5
}
